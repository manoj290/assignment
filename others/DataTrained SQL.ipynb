{
 "cells": [
  {
   "cell_type": "markdown",
   "metadata": {},
   "source": [
    "# comments"
   ]
  },
  {
   "cell_type": "markdown",
   "metadata": {},
   "source": [
    "# multi line comment"
   ]
  },
  {
   "cell_type": "code",
   "execution_count": 1,
   "metadata": {},
   "outputs": [],
   "source": [
    "#hi this is manoj\n",
    "#welcome\n",
    "#homr\n",
    "#coming"
   ]
  },
  {
   "cell_type": "markdown",
   "metadata": {},
   "source": [
    "# Docstring comments"
   ]
  },
  {
   "cell_type": "code",
   "execution_count": 2,
   "metadata": {},
   "outputs": [
    {
     "data": {
      "text/plain": [
       "'\\ndocstring comments are not omitted by interpretr\\nwhile comments are omitted\\n'"
      ]
     },
     "execution_count": 2,
     "metadata": {},
     "output_type": "execute_result"
    }
   ],
   "source": [
    "\"\"\"\n",
    "docstring comments are not omitted by interpretr\n",
    "while comments are omitted\n",
    "\"\"\""
   ]
  },
  {
   "cell_type": "code",
   "execution_count": 3,
   "metadata": {},
   "outputs": [
    {
     "data": {
      "text/plain": [
       "10"
      ]
     },
     "execution_count": 3,
     "metadata": {},
     "output_type": "execute_result"
    }
   ],
   "source": [
    "\"\"\"\n",
    "docstring comments are not omitted by interpretr\n",
    "while comments are omitted\n",
    "\"\"\"\n",
    "a=2\n",
    "b=5\n",
    "a*b\n"
   ]
  },
  {
   "cell_type": "code",
   "execution_count": 4,
   "metadata": {},
   "outputs": [
    {
     "name": "stdout",
     "output_type": "stream",
     "text": [
      "10\n"
     ]
    },
    {
     "data": {
      "text/plain": [
       "'\\ndocstring comments are not omitted by interpretr\\nwhile comments are omitted\\n'"
      ]
     },
     "execution_count": 4,
     "metadata": {},
     "output_type": "execute_result"
    }
   ],
   "source": [
    "a=2\n",
    "b=5\n",
    "print(a*b)\n",
    "\"\"\"\n",
    "docstring comments are not omitted by interpretr\n",
    "while comments are omitted\n",
    "\"\"\""
   ]
  },
  {
   "cell_type": "code",
   "execution_count": 5,
   "metadata": {},
   "outputs": [
    {
     "name": "stdout",
     "output_type": "stream",
     "text": [
      "[1, 2] [3, 10]\n",
      "[4, 5] [6, 11]\n",
      "[7, 8] [9, 12]\n"
     ]
    },
    {
     "data": {
      "text/plain": [
       "[None, None, None]"
      ]
     },
     "execution_count": 5,
     "metadata": {},
     "output_type": "execute_result"
    }
   ],
   "source": [
    "j=[[[1,2],[3,10]],[[4,5],[6,11]],[[7,8],[9,12]]]\n",
    "[print(*i) for i in j ]"
   ]
  },
  {
   "cell_type": "code",
   "execution_count": 2,
   "metadata": {},
   "outputs": [
    {
     "name": "stdout",
     "output_type": "stream",
     "text": [
      "Requirement already satisfied: mysql in c:\\users\\p.c\\anaconda3\\lib\\site-packages (0.0.3)\n",
      "Requirement already satisfied: mysqlclient in c:\\users\\p.c\\anaconda3\\lib\\site-packages (from mysql) (2.1.0)\n"
     ]
    }
   ],
   "source": [
    "#install mysql lib\n",
    "!pip install mysql"
   ]
  },
  {
   "cell_type": "code",
   "execution_count": 3,
   "metadata": {},
   "outputs": [
    {
     "ename": "ModuleNotFoundError",
     "evalue": "No module named 'mysql'",
     "output_type": "error",
     "traceback": [
      "\u001b[1;31m---------------------------------------------------------------------------\u001b[0m",
      "\u001b[1;31mModuleNotFoundError\u001b[0m                       Traceback (most recent call last)",
      "\u001b[1;32m~\\AppData\\Local\\Temp/ipykernel_13692/826062156.py\u001b[0m in \u001b[0;36m<module>\u001b[1;34m\u001b[0m\n\u001b[0;32m      1\u001b[0m \u001b[1;31m#importing mysql module\u001b[0m\u001b[1;33m\u001b[0m\u001b[1;33m\u001b[0m\u001b[0m\n\u001b[1;32m----> 2\u001b[1;33m \u001b[1;32mimport\u001b[0m \u001b[0mmysql\u001b[0m\u001b[1;33m.\u001b[0m\u001b[0mconnector\u001b[0m\u001b[1;33m\u001b[0m\u001b[1;33m\u001b[0m\u001b[0m\n\u001b[0m",
      "\u001b[1;31mModuleNotFoundError\u001b[0m: No module named 'mysql'"
     ]
    }
   ],
   "source": [
    "#importing mysql module\n",
    "import mysql.connector"
   ]
  },
  {
   "cell_type": "code",
   "execution_count": 8,
   "metadata": {},
   "outputs": [
    {
     "name": "stderr",
     "output_type": "stream",
     "text": [
      "'grep' is not recognized as an internal or external command,\n",
      "operable program or batch file.\n"
     ]
    }
   ],
   "source": [
    "!pip search mysql-connector | grep --color mysql-connector-python"
   ]
  },
  {
   "cell_type": "code",
   "execution_count": null,
   "metadata": {},
   "outputs": [],
   "source": []
  },
  {
   "cell_type": "code",
   "execution_count": 8,
   "metadata": {},
   "outputs": [],
   "source": [
    "#syntax for using sql\n",
    "mydb=mysql.connector.connect(\n",
    "host='localhost',\n",
    "username='root',\n",
    "password='9897067111'\n",
    ")\n",
    "#this is the cursor where we are in dbms \n",
    "myCursor=mydb.cursor()"
   ]
  },
  {
   "cell_type": "code",
   "execution_count": 9,
   "metadata": {},
   "outputs": [],
   "source": [
    "#showing database\n",
    "myCursor.execute(\"SHOW DATABASES\")\n"
   ]
  },
  {
   "cell_type": "code",
   "execution_count": 10,
   "metadata": {},
   "outputs": [
    {
     "name": "stdout",
     "output_type": "stream",
     "text": [
      "('bank',)\n",
      "('db1',)\n",
      "('employeedb',)\n",
      "('information_schema',)\n",
      "('mysql',)\n",
      "('performance_schema',)\n",
      "('practice',)\n",
      "('sakila',)\n",
      "('sys',)\n",
      "('testdb',)\n",
      "('world',)\n"
     ]
    }
   ],
   "source": [
    "for x in myCursor:\n",
    "    print(x)"
   ]
  },
  {
   "cell_type": "code",
   "execution_count": 11,
   "metadata": {},
   "outputs": [],
   "source": [
    "#create database\n",
    "myCursor.execute(\"Create DATABASE if not exists STUDENT\")   #[IF NOT EXISTS]"
   ]
  },
  {
   "cell_type": "code",
   "execution_count": 12,
   "metadata": {},
   "outputs": [
    {
     "name": "stdout",
     "output_type": "stream",
     "text": [
      "('bank',)\n",
      "('db1',)\n",
      "('employeedb',)\n",
      "('information_schema',)\n",
      "('mysql',)\n",
      "('performance_schema',)\n",
      "('practice',)\n",
      "('sakila',)\n",
      "('student',)\n",
      "('sys',)\n",
      "('testdb',)\n",
      "('world',)\n"
     ]
    }
   ],
   "source": [
    "#showing databases\n",
    "myCursor.execute(\"SHOW DATABASES\")\n",
    "for x in myCursor:\n",
    "    print(x)"
   ]
  },
  {
   "cell_type": "markdown",
   "metadata": {},
   "source": [
    "## Create Table"
   ]
  },
  {
   "cell_type": "code",
   "execution_count": 13,
   "metadata": {},
   "outputs": [],
   "source": [
    "#we use use database_name for changing/using that particular database to create or use table in that.\n",
    "#but here we only mention the database_name in the syntax that particular database we want to use to create table\n",
    "import mysql.connector\n",
    "mydb=mysql.connector.connect(host='localhost',username='root',password='9897067111',database='student')\n",
    "myCursor=mydb.cursor()\n",
    "myCursor.execute('create table if not exists  stud (gender varchar(6),id integer(10),marks int(3))')"
   ]
  },
  {
   "cell_type": "code",
   "execution_count": 14,
   "metadata": {},
   "outputs": [
    {
     "name": "stdout",
     "output_type": "stream",
     "text": [
      "('stud', 'BASE TABLE')\n"
     ]
    }
   ],
   "source": [
    "#showing tables in database\n",
    "myCursor.execute(\"show full tables\")\n",
    "for x in myCursor:\n",
    "    print(x)"
   ]
  },
  {
   "cell_type": "code",
   "execution_count": 15,
   "metadata": {},
   "outputs": [
    {
     "name": "stdout",
     "output_type": "stream",
     "text": [
      "('stud',)\n"
     ]
    }
   ],
   "source": [
    "#showing tables in database\n",
    "myCursor.execute(\"show  tables\")\n",
    "for x in myCursor:\n",
    "    print(x)"
   ]
  },
  {
   "cell_type": "markdown",
   "metadata": {},
   "source": [
    "### DATA INSERTION"
   ]
  },
  {
   "cell_type": "markdown",
   "metadata": {},
   "source": [
    "INSERTING SINGLE RECORD IN TABLE"
   ]
  },
  {
   "cell_type": "code",
   "execution_count": 16,
   "metadata": {},
   "outputs": [],
   "source": [
    "myCursor.execute(\"insert into stud (gender,id,marks) values('male',0001,53)\")"
   ]
  },
  {
   "cell_type": "code",
   "execution_count": 17,
   "metadata": {},
   "outputs": [
    {
     "name": "stdout",
     "output_type": "stream",
     "text": [
      "1 record inserted\n"
     ]
    }
   ],
   "source": [
    "#Stores data permanently in the table\n",
    "mydb.commit()\n",
    "print(myCursor.rowcount,'record inserted')"
   ]
  },
  {
   "cell_type": "code",
   "execution_count": 18,
   "metadata": {},
   "outputs": [
    {
     "name": "stdout",
     "output_type": "stream",
     "text": [
      "('male', 1, 53)\n"
     ]
    }
   ],
   "source": [
    "myCursor.execute(\"select * from stud\")\n",
    "for x in myCursor:\n",
    "    print(x)"
   ]
  },
  {
   "cell_type": "markdown",
   "metadata": {},
   "source": [
    "INSERTING MULTIPLE RECORD"
   ]
  },
  {
   "cell_type": "code",
   "execution_count": 19,
   "metadata": {},
   "outputs": [
    {
     "name": "stdout",
     "output_type": "stream",
     "text": [
      "4 records inserted\n"
     ]
    }
   ],
   "source": [
    "sql='insert into stud (gender,id,marks) values(%s,%s,%s)'\n",
    "val=(('female',5,74),('female',3,56),('male',2,48),('male',4,85))\n",
    "myCursor.executemany(sql,val)\n",
    "mydb.commit()\n",
    "print(myCursor.rowcount,'records inserted')"
   ]
  },
  {
   "cell_type": "code",
   "execution_count": 20,
   "metadata": {},
   "outputs": [
    {
     "name": "stdout",
     "output_type": "stream",
     "text": [
      "('male', 1, 53)\n",
      "('female', 5, 74)\n",
      "('female', 3, 56)\n",
      "('male', 2, 48)\n",
      "('male', 4, 85)\n"
     ]
    }
   ],
   "source": [
    "myCursor.execute(\"select * from stud\")\n",
    "for x in myCursor:\n",
    "    print(x)"
   ]
  },
  {
   "cell_type": "code",
   "execution_count": 21,
   "metadata": {},
   "outputs": [
    {
     "data": {
      "text/plain": [
       "\"\\n*****************************\\n*****************************\\nIf we want to insert multiple record in a mysql command prompt then the syntax is :\\nINSERT INTO STUD (gender,id,marks) VALUES('FEMALE',1,56) ('VALUE1',VALUE2,VALUE3) ('VALUE1',VALUE2,VALUE3)...\\n*****************************\\n*****************************\\n\""
      ]
     },
     "execution_count": 21,
     "metadata": {},
     "output_type": "execute_result"
    }
   ],
   "source": [
    "\"\"\"\n",
    "*****************************\n",
    "*****************************\n",
    "If we want to insert multiple record in a mysql command prompt then the syntax is :\n",
    "INSERT INTO STUD (gender,id,marks) VALUES('FEMALE',1,56) ('VALUE1',VALUE2,VALUE3) ('VALUE1',VALUE2,VALUE3)...\n",
    "*****************************\n",
    "*****************************\n",
    "\"\"\""
   ]
  },
  {
   "cell_type": "markdown",
   "metadata": {},
   "source": [
    "## LOAD EXTERNAL DATA INTO TABLE "
   ]
  },
  {
   "cell_type": "code",
   "execution_count": 22,
   "metadata": {},
   "outputs": [
    {
     "name": "stdout",
     "output_type": "stream",
     "text": [
      "('local_infile', 'ON')\n"
     ]
    }
   ],
   "source": [
    "#****Checking local_infile is on. If not then we set it to on\n",
    "myCursor.execute(\"SHOW VARIABLES LIKE 'local_infile'\")\n",
    "for x in myCursor:\n",
    "    print(x)"
   ]
  },
  {
   "cell_type": "code",
   "execution_count": 23,
   "metadata": {},
   "outputs": [],
   "source": [
    "#****setting local_infile ON*****\n",
    "myCursor.execute('SET GLOBAL local_infile=ON')"
   ]
  },
  {
   "cell_type": "code",
   "execution_count": 24,
   "metadata": {},
   "outputs": [
    {
     "name": "stdout",
     "output_type": "stream",
     "text": [
      "('local_infile', 'ON')\n"
     ]
    }
   ],
   "source": [
    "#Checking that we set it to on or not\n",
    "myCursor.execute(\"SHOW VARIABLES LIKE 'local_infile'\")\n",
    "for x in myCursor:\n",
    "    print(x)"
   ]
  },
  {
   "cell_type": "code",
   "execution_count": 25,
   "metadata": {},
   "outputs": [
    {
     "name": "stdout",
     "output_type": "stream",
     "text": [
      "('secure_file_priv', 'C:\\\\ProgramData\\\\MySQL\\\\MySQL Server 8.0\\\\Uploads\\\\')\n"
     ]
    }
   ],
   "source": [
    "#**Getting  location where it will pick the file \n",
    "myCursor.execute(\"SHOW VARIABLES LIKE 'secure_file_priv'\")\n",
    "for x in myCursor:\n",
    "    print(x)"
   ]
  },
  {
   "cell_type": "code",
   "execution_count": 26,
   "metadata": {},
   "outputs": [],
   "source": [
    "myCursor.execute(\"LOAD DATA INFILE 'C:/ProgramData/MySQL/MySQL Server 8.0/Uploads/stud.csv' INTO TABLE stud fields terminated by ',' lines terminated by '\\n' ignore 1 lines\")\n",
    "mydb.commit()"
   ]
  },
  {
   "cell_type": "code",
   "execution_count": 27,
   "metadata": {},
   "outputs": [
    {
     "name": "stdout",
     "output_type": "stream",
     "text": [
      "('male', 1, 53)\n",
      "('female', 5, 74)\n",
      "('female', 3, 56)\n",
      "('male', 2, 48)\n",
      "('male', 4, 85)\n",
      "('male', 6, 99)\n",
      "('female', 10, 65)\n",
      "('male', 8, 63)\n",
      "('male', 9, 78)\n",
      "('female', 11, 43)\n"
     ]
    }
   ],
   "source": [
    "myCursor.execute(\"SELECT * FROM STUD\")\n",
    "for x in myCursor:\n",
    "    print(x)"
   ]
  },
  {
   "cell_type": "code",
   "execution_count": 28,
   "metadata": {},
   "outputs": [
    {
     "name": "stdout",
     "output_type": "stream",
     "text": [
      "('male', 1, 53)\n",
      "('female', 5, 74)\n",
      "('female', 3, 56)\n",
      "('male', 2, 48)\n",
      "('male', 4, 85)\n",
      "('male', 6, 99)\n",
      "('female', 10, 65)\n",
      "('male', 8, 63)\n",
      "('male', 9, 78)\n",
      "('female', 11, 43)\n"
     ]
    }
   ],
   "source": [
    "#ONE more way to show record\n",
    "myCursor.execute('Select * from stud')\n",
    "myResult=myCursor.fetchall()\n",
    "for x in myResult:\n",
    "    print(x)"
   ]
  },
  {
   "cell_type": "markdown",
   "metadata": {},
   "source": [
    "### UPDATE RECORD"
   ]
  },
  {
   "cell_type": "code",
   "execution_count": 29,
   "metadata": {},
   "outputs": [
    {
     "name": "stdout",
     "output_type": "stream",
     "text": [
      "1 record(s) affected\n"
     ]
    }
   ],
   "source": [
    "myCursor.execute(\"UPDATE STUD SET marks=48 where id=3\")\n",
    "mydb.commit()\n",
    "print(myCursor.rowcount,\"record(s) affected\")"
   ]
  },
  {
   "cell_type": "code",
   "execution_count": 30,
   "metadata": {},
   "outputs": [
    {
     "name": "stdout",
     "output_type": "stream",
     "text": [
      "('male', 1, 53)\n",
      "('female', 5, 74)\n",
      "('female', 3, 48)\n",
      "('male', 2, 48)\n",
      "('male', 4, 85)\n",
      "('male', 6, 99)\n",
      "('female', 10, 65)\n",
      "('male', 8, 63)\n",
      "('male', 9, 78)\n",
      "('female', 11, 43)\n"
     ]
    }
   ],
   "source": [
    "sql=\"SELECT * FROM STUD\"\n",
    "myCursor.execute(sql)\n",
    "myResult=myCursor.fetchall()\n",
    "for x in myResult:\n",
    "    print(x)"
   ]
  },
  {
   "cell_type": "code",
   "execution_count": 31,
   "metadata": {},
   "outputs": [
    {
     "data": {
      "text/plain": [
       "'\\nmore updates queries:https://www.geeksforgeeks.org/sql-update-statement/\\n'"
      ]
     },
     "execution_count": 31,
     "metadata": {},
     "output_type": "execute_result"
    }
   ],
   "source": [
    "\"\"\"\n",
    "more updates queries:https://www.geeksforgeeks.org/sql-update-statement/\n",
    "\"\"\""
   ]
  },
  {
   "cell_type": "markdown",
   "metadata": {},
   "source": [
    "### DROP TABLE"
   ]
  },
  {
   "cell_type": "code",
   "execution_count": 32,
   "metadata": {},
   "outputs": [
    {
     "name": "stdout",
     "output_type": "stream",
     "text": [
      "0 record(s) affected\n"
     ]
    }
   ],
   "source": [
    "\n",
    "sql=\"DROP TABLE STUD\"\n",
    "myCursor.execute(sql)\n",
    "print(myCursor.rowcount,'record(s) affected')\n"
   ]
  },
  {
   "cell_type": "markdown",
   "metadata": {},
   "source": [
    "##### HOW TO DROP DATABASE"
   ]
  },
  {
   "cell_type": "code",
   "execution_count": 33,
   "metadata": {},
   "outputs": [],
   "source": [
    "import mysql.connector\n",
    "mydb=mysql.connector.connect(\n",
    "host='localhost',\n",
    "username='root',\n",
    "password='9897067111')\n",
    "myCursor=mydb.cursor()\n",
    "sql=\"DROP database if exists STUDENT\"  #[if exists] it's an option to avoid creating errors\n",
    "myCursor.execute(sql)"
   ]
  },
  {
   "cell_type": "code",
   "execution_count": 34,
   "metadata": {},
   "outputs": [
    {
     "name": "stdout",
     "output_type": "stream",
     "text": [
      "('bank',)\n",
      "('db1',)\n",
      "('employeedb',)\n",
      "('information_schema',)\n",
      "('mysql',)\n",
      "('performance_schema',)\n",
      "('practice',)\n",
      "('sakila',)\n",
      "('sys',)\n",
      "('testdb',)\n",
      "('world',)\n"
     ]
    }
   ],
   "source": [
    "\n",
    "sql='SHOW DATABASES'\n",
    "myCursor.execute(sql)\n",
    "myResult=myCursor.fetchall()\n",
    "for x in myResult:\n",
    "    print(x)\n"
   ]
  },
  {
   "cell_type": "code",
   "execution_count": 35,
   "metadata": {},
   "outputs": [
    {
     "data": {
      "text/plain": [
       "'\\n1.Check The Database\\n2.Create Database\\n3.Create Table\\n4.Inserted records in table:single record in a sql command\\n                           :Multiple record in a sql command\\n                           :Load csv,excel file in a sql command\\n5.Fetch Records\\n6.Data Selection with clauses like:Where\\n                                  :Order By\\n                                  :Select Distinct\\n7.Update table/records\\n'"
      ]
     },
     "execution_count": 35,
     "metadata": {},
     "output_type": "execute_result"
    }
   ],
   "source": [
    "\"\"\"\n",
    "1.Check The Database\n",
    "2.Create Database\n",
    "3.Create Table\n",
    "4.Inserted records in table:single record in a sql command\n",
    "                           :Multiple record in a sql command\n",
    "                           :Load csv,excel file in a sql command\n",
    "5.Fetch Records\n",
    "6.Data Selection with clauses like:Where\n",
    "                                  :Order By\n",
    "                                  :Select Distinct\n",
    "7.Update table/records\n",
    "\"\"\""
   ]
  },
  {
   "cell_type": "code",
   "execution_count": 36,
   "metadata": {},
   "outputs": [
    {
     "name": "stdout",
     "output_type": "stream",
     "text": [
      "('marks',)\n",
      "('student',)\n"
     ]
    }
   ],
   "source": [
    "mydb=mysql.connector.connect(host='localhost',username='root',password='9897067111',database='db1')\n",
    "myCursor=mydb.cursor()\n",
    "myCursor.execute('Show tables')  #We can also use in command prompt show tables from db1 or show tables in db1\n",
    "                                # show tables from db1 like 'stud%'---> Here we can use clauses like , where\n",
    "for x in myCursor:\n",
    "    print(x)"
   ]
  },
  {
   "cell_type": "markdown",
   "metadata": {},
   "source": [
    "myCursor.execute(\"select * from student\")\n",
    "myResult=myCursor.fetchall()\n",
    "for x in myResult:\n",
    "    print(x)"
   ]
  },
  {
   "cell_type": "markdown",
   "metadata": {},
   "source": [
    "myCursor.execute(\"truncate  table student\")\n",
    "for x in myCursor:\n",
    "    print(x)"
   ]
  },
  {
   "cell_type": "code",
   "execution_count": null,
   "metadata": {},
   "outputs": [],
   "source": []
  },
  {
   "cell_type": "code",
   "execution_count": 53,
   "metadata": {},
   "outputs": [
    {
     "name": "stdout",
     "output_type": "stream",
     "text": [
      "('id', b'int', 'YES', '', None, '')\n",
      "('name', b'varchar(10)', 'YES', '', None, '')\n"
     ]
    }
   ],
   "source": [
    "myCursor.execute(\"desc student\")\n",
    "for x in myCursor:\n",
    "    print(x)"
   ]
  },
  {
   "cell_type": "code",
   "execution_count": 54,
   "metadata": {},
   "outputs": [
    {
     "name": "stdout",
     "output_type": "stream",
     "text": [
      "8 record affected!!\n"
     ]
    }
   ],
   "source": [
    "sql=\"Insert into student(id , name) values (%s,%s)\"\n",
    "val=((101,'MK'),(102,'lalit'),(103,'anany'),(104,'vikky'),(105,'pp'),(106,'anant'),(107,'ravi'),(108,'bongu'))\n",
    "myCursor.executemany(sql,val)\n",
    "print(myCursor.rowcount,'record affected!!')"
   ]
  },
  {
   "cell_type": "code",
   "execution_count": 55,
   "metadata": {},
   "outputs": [
    {
     "name": "stdout",
     "output_type": "stream",
     "text": [
      "4 record(s) affected!!\n"
     ]
    }
   ],
   "source": [
    "sql=\"Insert into student(id , name) values (%s,%s)\"\n",
    "val=((109,'ranji'),(112,'veer'),(113,'nany'),(114,'karan'))\n",
    "myCursor.executemany(sql,val)\n",
    "print(myCursor.rowcount,'record(s) affected!!')"
   ]
  },
  {
   "cell_type": "code",
   "execution_count": 56,
   "metadata": {},
   "outputs": [
    {
     "name": "stdout",
     "output_type": "stream",
     "text": [
      "(101, 'MK')\n",
      "(102, 'lalit')\n",
      "(103, 'anany')\n",
      "(104, 'vikky')\n",
      "(105, 'pp')\n",
      "(106, 'anant')\n",
      "(107, 'ravi')\n",
      "(108, 'bongu')\n",
      "(109, 'ranji')\n",
      "(112, 'veer')\n",
      "(113, 'nany')\n",
      "(114, 'karan')\n"
     ]
    }
   ],
   "source": [
    "myCursor.execute(\"SELECT * FROM STUDENT\")\n",
    "for x in myCursor:\n",
    "    print(x)"
   ]
  },
  {
   "cell_type": "code",
   "execution_count": 57,
   "metadata": {},
   "outputs": [
    {
     "name": "stdout",
     "output_type": "stream",
     "text": [
      "('marks',)\n",
      "('student',)\n"
     ]
    }
   ],
   "source": [
    "myCursor.execute(\"SHOW TABLES\")\n",
    "for x in myCursor:\n",
    "    print(x)"
   ]
  },
  {
   "cell_type": "code",
   "execution_count": 58,
   "metadata": {},
   "outputs": [],
   "source": [
    "myCursor.execute(\"CREATE TABLE if not exists marks (ID INT(5),MARKS INT(3),gender varchar(6))\")\n"
   ]
  },
  {
   "cell_type": "code",
   "execution_count": 59,
   "metadata": {},
   "outputs": [
    {
     "name": "stdout",
     "output_type": "stream",
     "text": [
      "8 record(s) affected!!\n"
     ]
    }
   ],
   "source": [
    "sql=\"insert into marks (id,marks,gender) values (%s,%s,%s)\"\n",
    "val=((101,53,'Male'),(102,85,'Female'),(103,52,'Female'),(104,98,'Male'),(105,49,'Female'),(106,85,'Male'),(107,94,'Male'),(108,56,'Others'))\n",
    "myCursor.executemany(sql,val)\n",
    "print(myCursor.rowcount,'record(s) affected!!')"
   ]
  },
  {
   "cell_type": "code",
   "execution_count": 60,
   "metadata": {},
   "outputs": [
    {
     "name": "stdout",
     "output_type": "stream",
     "text": [
      "3 record(s) affected!!\n"
     ]
    }
   ],
   "source": [
    "sql=\"insert into marks (id,marks,gender) values (%s,%s,%s)\"\n",
    "val=((110,53,'Male'),(111,85,'Female'),(115,52,'Female'))\n",
    "myCursor.executemany(sql,val)\n",
    "print(myCursor.rowcount,'record(s) affected!!')"
   ]
  },
  {
   "cell_type": "code",
   "execution_count": 61,
   "metadata": {},
   "outputs": [
    {
     "name": "stdout",
     "output_type": "stream",
     "text": [
      "(101, 53, 'Male')\n",
      "(102, 85, 'Female')\n",
      "(103, 52, 'Female')\n",
      "(104, 98, 'Male')\n",
      "(105, 49, 'Female')\n",
      "(106, 85, 'Male')\n",
      "(107, 94, 'Male')\n",
      "(108, 56, 'Others')\n",
      "(110, 53, 'Male')\n",
      "(111, 85, 'Female')\n",
      "(115, 52, 'Female')\n"
     ]
    }
   ],
   "source": [
    "myCursor.execute(\"select * from marks\")\n",
    "for x in myCursor:\n",
    "    print(x)"
   ]
  },
  {
   "cell_type": "markdown",
   "metadata": {},
   "source": [
    "### INNER JOIN "
   ]
  },
  {
   "cell_type": "code",
   "execution_count": 62,
   "metadata": {},
   "outputs": [
    {
     "name": "stdout",
     "output_type": "stream",
     "text": [
      "(101, 'MK', 53, 'Male')\n",
      "(102, 'lalit', 85, 'Female')\n",
      "(103, 'anany', 52, 'Female')\n",
      "(104, 'vikky', 98, 'Male')\n",
      "(105, 'pp', 49, 'Female')\n",
      "(106, 'anant', 85, 'Male')\n",
      "(107, 'ravi', 94, 'Male')\n",
      "(108, 'bongu', 56, 'Others')\n"
     ]
    }
   ],
   "source": [
    "\"\"\"\n",
    "INNER JOIN matches each records from one table with every record to other table and allows you to query\n",
    "row that contain columns from both  tables\n",
    "\"\"\"\n",
    "myCursor.execute(\"SELECT S.id,S.name, m.marks,m.gender from Student S inner join  marks m on S.id=m.id\")\n",
    "for x in myCursor:\n",
    "    print(x)\n"
   ]
  },
  {
   "cell_type": "markdown",
   "metadata": {},
   "source": [
    "### RIght Join"
   ]
  },
  {
   "cell_type": "code",
   "execution_count": 63,
   "metadata": {},
   "outputs": [
    {
     "name": "stdout",
     "output_type": "stream",
     "text": [
      "(101, 'MK', 53, 'Male')\n",
      "(102, 'lalit', 85, 'Female')\n",
      "(103, 'anany', 52, 'Female')\n",
      "(104, 'vikky', 98, 'Male')\n",
      "(105, 'pp', 49, 'Female')\n",
      "(106, 'anant', 85, 'Male')\n",
      "(107, 'ravi', 94, 'Male')\n",
      "(108, 'bongu', 56, 'Others')\n",
      "(None, None, 53, 'Male')\n",
      "(None, None, 85, 'Female')\n",
      "(None, None, 52, 'Female')\n"
     ]
    }
   ],
   "source": [
    "\"\"\"99\n",
    "right join returns matching and non matching with none\n",
    "\"\"\"\n",
    "\n",
    "myCursor.execute(\"SELECT S.id,S.name, m.marks,m.gender from Student S right join  marks m on S.id=m.id\")\n",
    "for x in myCursor:\n",
    "    print(x)"
   ]
  },
  {
   "cell_type": "code",
   "execution_count": 64,
   "metadata": {},
   "outputs": [
    {
     "name": "stdout",
     "output_type": "stream",
     "text": [
      "('bank',)\n",
      "('db1',)\n",
      "('employeedb',)\n",
      "('information_schema',)\n",
      "('mysql',)\n",
      "('performance_schema',)\n",
      "('practice',)\n",
      "('sakila',)\n",
      "('sys',)\n",
      "('testdb',)\n",
      "('world',)\n"
     ]
    }
   ],
   "source": [
    "import mysql.connector\n",
    "mydb=mysql.connector.connect(host='localhost', username='root',password='9897067111')\n",
    "myCursor=mydb.cursor()\n",
    "myCursor.execute(\"SHOW DATABASES\")\n",
    "for x in myCursor:\n",
    "    print(x)"
   ]
  },
  {
   "cell_type": "code",
   "execution_count": 65,
   "metadata": {},
   "outputs": [
    {
     "name": "stdout",
     "output_type": "stream",
     "text": [
      "('marks',)\n",
      "('student',)\n"
     ]
    }
   ],
   "source": [
    "myCursor.execute(\"SHOW TABLES IN db1\")\n",
    "for x in myCursor:\n",
    "    print(x)"
   ]
  },
  {
   "cell_type": "markdown",
   "metadata": {},
   "source": [
    "## COLUMNS"
   ]
  },
  {
   "cell_type": "markdown",
   "metadata": {},
   "source": [
    "#### ADDIING SINGLE COLUMN IN A EXISTING TABLE"
   ]
  },
  {
   "cell_type": "code",
   "execution_count": 66,
   "metadata": {},
   "outputs": [
    {
     "name": "stdout",
     "output_type": "stream",
     "text": [
      "('marks',)\n",
      "('student',)\n"
     ]
    }
   ],
   "source": [
    "mydb=mysql.connector.connect(host='localhost',username='root',password='9897067111',database='db1')\n",
    "myCursor=mydb.cursor()\n",
    "myCursor.execute('Show tables')  #We can also use in command prompt show tables from db1 or show tables in db1\n",
    "                                # show tables from db1 like 'stud%'---> Here we can use clauses like , where\n",
    "for x in myCursor:\n",
    "    print(x)"
   ]
  },
  {
   "cell_type": "code",
   "execution_count": null,
   "metadata": {},
   "outputs": [],
   "source": [
    "myCursor.execute(\"ALTER TABLE STUDENT add last_name varchar(10) not null\")\n",
    "for x in myCursor:\n",
    "    print(x)"
   ]
  },
  {
   "cell_type": "code",
   "execution_count": 26,
   "metadata": {},
   "outputs": [
    {
     "ename": "ProgrammingError",
     "evalue": "1060 (42S21): Duplicate column name 'last_name'",
     "output_type": "error",
     "traceback": [
      "\u001b[1;31m---------------------------------------------------------------------------\u001b[0m",
      "\u001b[1;31mMySQLInterfaceError\u001b[0m                       Traceback (most recent call last)",
      "\u001b[1;32m~\\AppData\\Local\\Continuum\\anaconda3\\lib\\site-packages\\mysql\\connector\\connection_cext.py\u001b[0m in \u001b[0;36mcmd_query\u001b[1;34m(self, query, raw, buffered, raw_as_string)\u001b[0m\n\u001b[0;32m    507\u001b[0m                                \u001b[0mraw\u001b[0m\u001b[1;33m=\u001b[0m\u001b[0mraw\u001b[0m\u001b[1;33m,\u001b[0m \u001b[0mbuffered\u001b[0m\u001b[1;33m=\u001b[0m\u001b[0mbuffered\u001b[0m\u001b[1;33m,\u001b[0m\u001b[1;33m\u001b[0m\u001b[1;33m\u001b[0m\u001b[0m\n\u001b[1;32m--> 508\u001b[1;33m                                raw_as_string=raw_as_string)\n\u001b[0m\u001b[0;32m    509\u001b[0m         \u001b[1;32mexcept\u001b[0m \u001b[0mMySQLInterfaceError\u001b[0m \u001b[1;32mas\u001b[0m \u001b[0mexc\u001b[0m\u001b[1;33m:\u001b[0m\u001b[1;33m\u001b[0m\u001b[1;33m\u001b[0m\u001b[0m\n",
      "\u001b[1;31mMySQLInterfaceError\u001b[0m: Duplicate column name 'last_name'",
      "\nDuring handling of the above exception, another exception occurred:\n",
      "\u001b[1;31mProgrammingError\u001b[0m                          Traceback (most recent call last)",
      "\u001b[1;32m<ipython-input-26-903bb2abb68c>\u001b[0m in \u001b[0;36m<module>\u001b[1;34m\u001b[0m\n\u001b[1;32m----> 1\u001b[1;33m \u001b[0mmyCursor\u001b[0m\u001b[1;33m.\u001b[0m\u001b[0mexecute\u001b[0m\u001b[1;33m(\u001b[0m\u001b[1;34m\"ALTER TABLE STUDENT add last_name varchar(10) not null\"\u001b[0m\u001b[1;33m)\u001b[0m\u001b[1;33m\u001b[0m\u001b[1;33m\u001b[0m\u001b[0m\n\u001b[0m\u001b[0;32m      2\u001b[0m \u001b[1;32mfor\u001b[0m \u001b[0mx\u001b[0m \u001b[1;32min\u001b[0m \u001b[0mmyCursor\u001b[0m\u001b[1;33m:\u001b[0m\u001b[1;33m\u001b[0m\u001b[1;33m\u001b[0m\u001b[0m\n\u001b[0;32m      3\u001b[0m     \u001b[0mprint\u001b[0m\u001b[1;33m(\u001b[0m\u001b[0mx\u001b[0m\u001b[1;33m)\u001b[0m\u001b[1;33m\u001b[0m\u001b[1;33m\u001b[0m\u001b[0m\n",
      "\u001b[1;32m~\\AppData\\Local\\Continuum\\anaconda3\\lib\\site-packages\\mysql\\connector\\cursor_cext.py\u001b[0m in \u001b[0;36mexecute\u001b[1;34m(self, operation, params, multi)\u001b[0m\n\u001b[0;32m    269\u001b[0m             result = self._cnx.cmd_query(stmt, raw=self._raw,\n\u001b[0;32m    270\u001b[0m                                          \u001b[0mbuffered\u001b[0m\u001b[1;33m=\u001b[0m\u001b[0mself\u001b[0m\u001b[1;33m.\u001b[0m\u001b[0m_buffered\u001b[0m\u001b[1;33m,\u001b[0m\u001b[1;33m\u001b[0m\u001b[1;33m\u001b[0m\u001b[0m\n\u001b[1;32m--> 271\u001b[1;33m                                          raw_as_string=self._raw_as_string)\n\u001b[0m\u001b[0;32m    272\u001b[0m         \u001b[1;32mexcept\u001b[0m \u001b[0mMySQLInterfaceError\u001b[0m \u001b[1;32mas\u001b[0m \u001b[0mexc\u001b[0m\u001b[1;33m:\u001b[0m\u001b[1;33m\u001b[0m\u001b[1;33m\u001b[0m\u001b[0m\n\u001b[0;32m    273\u001b[0m             raise errors.get_mysql_exception(msg=exc.msg, errno=exc.errno,\n",
      "\u001b[1;32m~\\AppData\\Local\\Continuum\\anaconda3\\lib\\site-packages\\mysql\\connector\\connection_cext.py\u001b[0m in \u001b[0;36mcmd_query\u001b[1;34m(self, query, raw, buffered, raw_as_string)\u001b[0m\n\u001b[0;32m    509\u001b[0m         \u001b[1;32mexcept\u001b[0m \u001b[0mMySQLInterfaceError\u001b[0m \u001b[1;32mas\u001b[0m \u001b[0mexc\u001b[0m\u001b[1;33m:\u001b[0m\u001b[1;33m\u001b[0m\u001b[1;33m\u001b[0m\u001b[0m\n\u001b[0;32m    510\u001b[0m             raise errors.get_mysql_exception(exc.errno, msg=exc.msg,\n\u001b[1;32m--> 511\u001b[1;33m                                              sqlstate=exc.sqlstate)\n\u001b[0m\u001b[0;32m    512\u001b[0m         \u001b[1;32mexcept\u001b[0m \u001b[0mAttributeError\u001b[0m\u001b[1;33m:\u001b[0m\u001b[1;33m\u001b[0m\u001b[1;33m\u001b[0m\u001b[0m\n\u001b[0;32m    513\u001b[0m             \u001b[1;32mif\u001b[0m \u001b[0mself\u001b[0m\u001b[1;33m.\u001b[0m\u001b[0m_unix_socket\u001b[0m\u001b[1;33m:\u001b[0m\u001b[1;33m\u001b[0m\u001b[1;33m\u001b[0m\u001b[0m\n",
      "\u001b[1;31mProgrammingError\u001b[0m: 1060 (42S21): Duplicate column name 'last_name'"
     ]
    }
   ],
   "source": [
    "myCursor.execute(\"ALTER TABLE STUDENT change last_name surname varchar(10) not null\")\n",
    "for x in myCursor:\n",
    "    print(x)"
   ]
  },
  {
   "cell_type": "code",
   "execution_count": 32,
   "metadata": {},
   "outputs": [
    {
     "ename": "InternalError",
     "evalue": "Unread result found",
     "output_type": "error",
     "traceback": [
      "\u001b[1;31m---------------------------------------------------------------------------\u001b[0m",
      "\u001b[1;31mInternalError\u001b[0m                             Traceback (most recent call last)",
      "\u001b[1;32m<ipython-input-32-ca191b9fe45e>\u001b[0m in \u001b[0;36m<module>\u001b[1;34m\u001b[0m\n\u001b[1;32m----> 1\u001b[1;33m \u001b[0mmyCursor\u001b[0m\u001b[1;33m.\u001b[0m\u001b[0mexecute\u001b[0m\u001b[1;33m(\u001b[0m\u001b[1;34m\"desc student\"\u001b[0m\u001b[1;33m)\u001b[0m\u001b[1;33m\u001b[0m\u001b[1;33m\u001b[0m\u001b[0m\n\u001b[0m\u001b[0;32m      2\u001b[0m \u001b[1;32mfor\u001b[0m \u001b[0mx\u001b[0m \u001b[1;32min\u001b[0m \u001b[0mmyCursor\u001b[0m\u001b[1;33m:\u001b[0m\u001b[1;33m\u001b[0m\u001b[1;33m\u001b[0m\u001b[0m\n\u001b[0;32m      3\u001b[0m     \u001b[0mprint\u001b[0m\u001b[1;33m(\u001b[0m\u001b[0mx\u001b[0m\u001b[1;33m)\u001b[0m\u001b[1;33m\u001b[0m\u001b[1;33m\u001b[0m\u001b[0m\n",
      "\u001b[1;32m~\\AppData\\Local\\Continuum\\anaconda3\\lib\\site-packages\\mysql\\connector\\cursor_cext.py\u001b[0m in \u001b[0;36mexecute\u001b[1;34m(self, operation, params, multi)\u001b[0m\n\u001b[0;32m    241\u001b[0m         \u001b[1;32mif\u001b[0m \u001b[1;32mnot\u001b[0m \u001b[0mself\u001b[0m\u001b[1;33m.\u001b[0m\u001b[0m_cnx\u001b[0m \u001b[1;32mor\u001b[0m \u001b[0mself\u001b[0m\u001b[1;33m.\u001b[0m\u001b[0m_cnx\u001b[0m\u001b[1;33m.\u001b[0m\u001b[0mis_closed\u001b[0m\u001b[1;33m(\u001b[0m\u001b[1;33m)\u001b[0m\u001b[1;33m:\u001b[0m\u001b[1;33m\u001b[0m\u001b[1;33m\u001b[0m\u001b[0m\n\u001b[0;32m    242\u001b[0m             \u001b[1;32mraise\u001b[0m \u001b[0merrors\u001b[0m\u001b[1;33m.\u001b[0m\u001b[0mProgrammingError\u001b[0m\u001b[1;33m(\u001b[0m\u001b[1;34m\"Cursor is not connected\"\u001b[0m\u001b[1;33m,\u001b[0m \u001b[1;36m2055\u001b[0m\u001b[1;33m)\u001b[0m\u001b[1;33m\u001b[0m\u001b[1;33m\u001b[0m\u001b[0m\n\u001b[1;32m--> 243\u001b[1;33m         \u001b[0mself\u001b[0m\u001b[1;33m.\u001b[0m\u001b[0m_cnx\u001b[0m\u001b[1;33m.\u001b[0m\u001b[0mhandle_unread_result\u001b[0m\u001b[1;33m(\u001b[0m\u001b[1;33m)\u001b[0m\u001b[1;33m\u001b[0m\u001b[1;33m\u001b[0m\u001b[0m\n\u001b[0m\u001b[0;32m    244\u001b[0m \u001b[1;33m\u001b[0m\u001b[0m\n\u001b[0;32m    245\u001b[0m         \u001b[0mstmt\u001b[0m \u001b[1;33m=\u001b[0m \u001b[1;34m''\u001b[0m\u001b[1;33m\u001b[0m\u001b[1;33m\u001b[0m\u001b[0m\n",
      "\u001b[1;32m~\\AppData\\Local\\Continuum\\anaconda3\\lib\\site-packages\\mysql\\connector\\connection_cext.py\u001b[0m in \u001b[0;36mhandle_unread_result\u001b[1;34m(self, prepared)\u001b[0m\n\u001b[0;32m    746\u001b[0m             \u001b[0mself\u001b[0m\u001b[1;33m.\u001b[0m\u001b[0mconsume_results\u001b[0m\u001b[1;33m(\u001b[0m\u001b[1;33m)\u001b[0m\u001b[1;33m\u001b[0m\u001b[1;33m\u001b[0m\u001b[0m\n\u001b[0;32m    747\u001b[0m         \u001b[1;32melif\u001b[0m \u001b[0munread_result\u001b[0m\u001b[1;33m:\u001b[0m\u001b[1;33m\u001b[0m\u001b[1;33m\u001b[0m\u001b[0m\n\u001b[1;32m--> 748\u001b[1;33m             \u001b[1;32mraise\u001b[0m \u001b[0merrors\u001b[0m\u001b[1;33m.\u001b[0m\u001b[0mInternalError\u001b[0m\u001b[1;33m(\u001b[0m\u001b[1;34m\"Unread result found\"\u001b[0m\u001b[1;33m)\u001b[0m\u001b[1;33m\u001b[0m\u001b[1;33m\u001b[0m\u001b[0m\n\u001b[0m\u001b[0;32m    749\u001b[0m \u001b[1;33m\u001b[0m\u001b[0m\n\u001b[0;32m    750\u001b[0m     \u001b[1;32mdef\u001b[0m \u001b[0mreset_session\u001b[0m\u001b[1;33m(\u001b[0m\u001b[0mself\u001b[0m\u001b[1;33m,\u001b[0m \u001b[0muser_variables\u001b[0m\u001b[1;33m=\u001b[0m\u001b[1;32mNone\u001b[0m\u001b[1;33m,\u001b[0m \u001b[0msession_variables\u001b[0m\u001b[1;33m=\u001b[0m\u001b[1;32mNone\u001b[0m\u001b[1;33m)\u001b[0m\u001b[1;33m:\u001b[0m\u001b[1;33m\u001b[0m\u001b[1;33m\u001b[0m\u001b[0m\n",
      "\u001b[1;31mInternalError\u001b[0m: Unread result found"
     ]
    }
   ],
   "source": [
    "myCursor.execute(\"desc student\")\n",
    "for x in myCursor:\n",
    "    print(x)"
   ]
  },
  {
   "cell_type": "markdown",
   "metadata": {},
   "source": [
    "#### ADDING MULTIPLE COLUMN IN A EXISTING TABLE"
   ]
  },
  {
   "cell_type": "code",
   "execution_count": null,
   "metadata": {},
   "outputs": [],
   "source": [
    "\"\"\"\n",
    "SYNTAX:\n",
    "\n",
    "ALTER TABLE TABLE_NAME\n",
    "ADD COL1_NAME DEFNITION [FIRST|AFTER COLUMN_NAME]\n",
    "ADD COL2_NAME DEFNITION [FIRST|AFTER COLUMN_NAME]\n",
    "\"\"\""
   ]
  },
  {
   "cell_type": "markdown",
   "metadata": {},
   "source": [
    "#### MODIFY COLUMN"
   ]
  },
  {
   "cell_type": "code",
   "execution_count": null,
   "metadata": {},
   "outputs": [],
   "source": [
    "myCursor.execute(\"alter table student modify id varchar(20) not null\")"
   ]
  },
  {
   "cell_type": "code",
   "execution_count": null,
   "metadata": {},
   "outputs": [],
   "source": [
    "myCursor.execute(\"Select * from student\")\n",
    "for x in myCursor:\n",
    "    print(x)"
   ]
  },
  {
   "cell_type": "code",
   "execution_count": null,
   "metadata": {},
   "outputs": [],
   "source": [
    "myCursor.execute(\"desc student\")\n",
    "for x  in myCursor:\n",
    "    print(x)"
   ]
  },
  {
   "cell_type": "markdown",
   "metadata": {},
   "source": [
    "#### DROP COLUMN"
   ]
  },
  {
   "cell_type": "code",
   "execution_count": 45,
   "metadata": {},
   "outputs": [],
   "source": [
    "myCursor.execute('alter table student drop column surname')"
   ]
  },
  {
   "cell_type": "markdown",
   "metadata": {},
   "source": [
    "#### DROP TABLE"
   ]
  },
  {
   "cell_type": "code",
   "execution_count": null,
   "metadata": {},
   "outputs": [],
   "source": [
    "\"\"\"\n",
    "SYNTAX:\n",
    "DROP TABLE TABLE_NAME IF EXISTS\n",
    "#delete table\n",
    "\"\"\""
   ]
  },
  {
   "cell_type": "markdown",
   "metadata": {},
   "source": [
    "#### TRUNCATE\n",
    "\n",
    "SYNTAX:\n",
    "TRUNCATE TABLE TABLE_NAME \"\"\"it delete all records from table but not delete the table\"\"\"\"\n"
   ]
  },
  {
   "cell_type": "markdown",
   "metadata": {},
   "source": [
    "#### DELETE SINGLE RECORD"
   ]
  },
  {
   "cell_type": "code",
   "execution_count": null,
   "metadata": {},
   "outputs": [],
   "source": [
    "myCursor.execute(\"delete from studentss where id='101'\")"
   ]
  },
  {
   "cell_type": "code",
   "execution_count": null,
   "metadata": {},
   "outputs": [],
   "source": [
    "myCursor.execute(\"SELECT * FROM STUDENTSS\")\n",
    "for x in myCursor:\n",
    "    print(x)"
   ]
  },
  {
   "cell_type": "markdown",
   "metadata": {},
   "source": [
    "#### RENAME COLUMN"
   ]
  },
  {
   "cell_type": "code",
   "execution_count": null,
   "metadata": {},
   "outputs": [],
   "source": [
    "myCursor.execute(\"alter table studentss change column name first_name varchar(20) not null\")"
   ]
  },
  {
   "cell_type": "code",
   "execution_count": null,
   "metadata": {},
   "outputs": [],
   "source": [
    "myCursor.execute(\"desc studentss\")\n",
    "for x in myCursor:\n",
    "    print(x)"
   ]
  },
  {
   "cell_type": "markdown",
   "metadata": {},
   "source": [
    "#### RENAME TABLE"
   ]
  },
  {
   "cell_type": "code",
   "execution_count": null,
   "metadata": {},
   "outputs": [],
   "source": [
    "myCursor.execute(\"alter table studentss rename to student\")"
   ]
  },
  {
   "cell_type": "code",
   "execution_count": null,
   "metadata": {},
   "outputs": [],
   "source": [
    "myCursor.execute(\"SHOW TABLES\")\n",
    "for x in myCursor:\n",
    "    print(x)"
   ]
  },
  {
   "cell_type": "markdown",
   "metadata": {},
   "source": [
    "#### CONSTRAINTS\n",
    "1.PRIMARY KEY\n",
    "2.FOREIGN KEY\n",
    "3.NOT NULL\n",
    "4.UNIQUE\n",
    "5.CHECK\n",
    "6.ENUM\n",
    "7.DEFAULT\n",
    "8.INDEX\n",
    "9.AUTO_INCREAMENT"
   ]
  },
  {
   "cell_type": "markdown",
   "metadata": {},
   "source": [
    "#### replace command"
   ]
  },
  {
   "cell_type": "code",
   "execution_count": null,
   "metadata": {},
   "outputs": [],
   "source": []
  }
 ],
 "metadata": {
  "kernelspec": {
   "display_name": "Python 3 (ipykernel)",
   "language": "python",
   "name": "python3"
  },
  "language_info": {
   "codemirror_mode": {
    "name": "ipython",
    "version": 3
   },
   "file_extension": ".py",
   "mimetype": "text/x-python",
   "name": "python",
   "nbconvert_exporter": "python",
   "pygments_lexer": "ipython3",
   "version": "3.9.7"
  }
 },
 "nbformat": 4,
 "nbformat_minor": 2
}
