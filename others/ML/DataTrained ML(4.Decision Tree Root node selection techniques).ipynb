{
 "cells": [
  {
   "cell_type": "code",
   "execution_count": 1,
   "metadata": {},
   "outputs": [],
   "source": [
    "import pandas as pd\n",
    "import numpy as np\n",
    "\n",
    "import warnings\n",
    "warnings.filterwarnings('ignore')"
   ]
  },
  {
   "cell_type": "markdown",
   "metadata": {},
   "source": [
    "# Techniques for assigning features to be root node"
   ]
  },
  {
   "cell_type": "markdown",
   "metadata": {},
   "source": [
    "## 1. Entropy & Information Gain"
   ]
  },
  {
   "cell_type": "code",
   "execution_count": 4,
   "metadata": {},
   "outputs": [
    {
     "data": {
      "text/html": [
       "<div>\n",
       "<style scoped>\n",
       "    .dataframe tbody tr th:only-of-type {\n",
       "        vertical-align: middle;\n",
       "    }\n",
       "\n",
       "    .dataframe tbody tr th {\n",
       "        vertical-align: top;\n",
       "    }\n",
       "\n",
       "    .dataframe thead th {\n",
       "        text-align: right;\n",
       "    }\n",
       "</style>\n",
       "<table border=\"1\" class=\"dataframe\">\n",
       "  <thead>\n",
       "    <tr style=\"text-align: right;\">\n",
       "      <th></th>\n",
       "      <th>X</th>\n",
       "      <th>Y</th>\n",
       "      <th>Z</th>\n",
       "      <th>Label</th>\n",
       "    </tr>\n",
       "  </thead>\n",
       "  <tbody>\n",
       "    <tr>\n",
       "      <th>0</th>\n",
       "      <td>1</td>\n",
       "      <td>1</td>\n",
       "      <td>1</td>\n",
       "      <td>A</td>\n",
       "    </tr>\n",
       "    <tr>\n",
       "      <th>1</th>\n",
       "      <td>1</td>\n",
       "      <td>1</td>\n",
       "      <td>0</td>\n",
       "      <td>A</td>\n",
       "    </tr>\n",
       "    <tr>\n",
       "      <th>2</th>\n",
       "      <td>0</td>\n",
       "      <td>0</td>\n",
       "      <td>1</td>\n",
       "      <td>B</td>\n",
       "    </tr>\n",
       "    <tr>\n",
       "      <th>3</th>\n",
       "      <td>1</td>\n",
       "      <td>0</td>\n",
       "      <td>0</td>\n",
       "      <td>B</td>\n",
       "    </tr>\n",
       "  </tbody>\n",
       "</table>\n",
       "</div>"
      ],
      "text/plain": [
       "   X  Y  Z Label\n",
       "0  1  1  1     A\n",
       "1  1  1  0     A\n",
       "2  0  0  1     B\n",
       "3  1  0  0     B"
      ]
     },
     "execution_count": 4,
     "metadata": {},
     "output_type": "execute_result"
    }
   ],
   "source": [
    "df=pd.DataFrame({'X':[1,1,0,1],\"Y\":[1,1,0,0],\"Z\":[1,0,1,0],'Label':['A','A','B','B']})\n",
    "df"
   ]
  },
  {
   "cell_type": "markdown",
   "metadata": {},
   "source": [
    "## X-feature\n",
    "\n",
    ".) Total ones in X ==>3.\n",
    "\n",
    ".) Count of Label \"A\" when X is 1 ==>2.\n",
    "\n",
    ".) Count of Label \"B\" when X is 1 ==>1.\n",
    "\n",
    "\n",
    "\n",
    ".) Total zeroes in X ==>1.\n",
    "\n",
    ".) Count of Label \"A\" when X is 0 ==>0.\n",
    "\n",
    ".) Count of label \"B\" when X is 0 ==>1.\n",
    "\n",
    "\n",
    "\n",
    "## E=Σ-p*log2(p)"
   ]
  },
  {
   "cell_type": "code",
   "execution_count": 8,
   "metadata": {},
   "outputs": [
    {
     "name": "stdout",
     "output_type": "stream",
     "text": [
      "Entropy of X feature for ones: 0.9182958340544896\n",
      "Entropy of X feature for zeroes: 0.0\n"
     ]
    }
   ],
   "source": [
    "# For One in X\n",
    "# here p is (Count of label A when X is one/Total ones in X) & Count of  Label is B when x is one /Total ones in X\n",
    "# So, E is \n",
    "entropyX_1=(-2/3)*np.log2(2/3) +(-1/3)*np.log2(1/3)\n",
    "print(\"Entropy of X feature for ones:\",entropyX_1)\n",
    "\n",
    "#For Zeroes\n",
    "# here p is (Count of Label A when X is zero/Total zeroes in X) & (Count of label B when X is zero/Total zeroes in X)\n",
    "entropyX_0=np.nansum((-0/1)*np.log2(0/3)+(-1/1)*np.log2(1/1))\n",
    "print(\"Entropy of X feature for zeroes:\",entropyX_0)"
   ]
  },
  {
   "cell_type": "markdown",
   "metadata": {},
   "source": [
    "## Y-feature\n",
    "\n",
    ".) Total ones in Y ==>2.\n",
    "\n",
    ".) Count of Label \"A\" when Y is 1 ==>2.\n",
    "\n",
    ".) Count of Label \"B\" when Y is 1 ==>0.\n",
    "\n",
    "\n",
    "\n",
    ".) Total zeroes in Y ==>2.\n",
    "\n",
    ".) Count of Label \"A\" when Y is 0 ==>0.\n",
    "\n",
    ".) Count of label \"B\" when Y is 0 ==>2.\n",
    "\n",
    "## E=Σ-plog2(p)\n",
    "\n",
    "\n"
   ]
  },
  {
   "cell_type": "code",
   "execution_count": 9,
   "metadata": {},
   "outputs": [
    {
     "name": "stdout",
     "output_type": "stream",
     "text": [
      "Entropy of Y feature for ones: 0.0\n",
      "Entropy of Y feature for zeroes: 0.0\n"
     ]
    }
   ],
   "source": [
    "entropyY_1=np.nansum((-2/2)*np.log2(2/2)+(-0/2)*np.log2(0/2))\n",
    "print(\"Entropy of Y feature for ones:\",entropyY_1)\n",
    "entropyY_0=np.nansum((-0/2)*np.log2(0/2)+(-2/2)*np.log2(2/2))\n",
    "print(\"Entropy of Y feature for zeroes:\",entropyY_0)"
   ]
  },
  {
   "cell_type": "markdown",
   "metadata": {},
   "source": [
    "## Z-feature\n",
    "\n",
    ".) Total ones in Z ==>2.\n",
    "\n",
    ".) Count of Label \"A\" when Z is 1 ==>1.\n",
    "\n",
    ".) Count of Label \"B\" when Z is 1 ==>1.\n",
    "\n",
    "\n",
    "\n",
    ".) Total zeroes in Z ==>2.\n",
    "\n",
    ".) Count of Label \"A\" when Z is 0 ==>1.\n",
    "\n",
    ".) Count of label \"B\" when Z is 0 ==>1.\n",
    "\n",
    "## E=Σ-plog2(p)\n",
    "\n"
   ]
  },
  {
   "cell_type": "code",
   "execution_count": 11,
   "metadata": {},
   "outputs": [
    {
     "name": "stdout",
     "output_type": "stream",
     "text": [
      "Entropy of Z feature for ones: 1.0\n",
      "Entropy of Z feature for zeroes: 1.0\n"
     ]
    }
   ],
   "source": [
    "entropyZ_1=np.nansum((-1/2)*np.log2(1/2)+(-1/2)*np.log2(1/2))\n",
    "print(\"Entropy of Z feature for ones:\",entropyZ_1)\n",
    "entropyZ_0=np.nansum((-1/2)*np.log2(1/2)+(-1/2)*np.log2(1/2))\n",
    "print(\"Entropy of Z feature for zeroes:\",entropyZ_0)"
   ]
  },
  {
   "cell_type": "markdown",
   "metadata": {},
   "source": [
    "## Finding Information gain using Entropy"
   ]
  },
  {
   "cell_type": "markdown",
   "metadata": {},
   "source": [
    "###  I.G.=1- Σ  (sv/s*E)"
   ]
  },
  {
   "cell_type": "markdown",
   "metadata": {},
   "source": [
    "E=Entropy\n",
    "\n",
    "s=total records of the features\n",
    "\n",
    "sv=totals of categories(i.e. 1 or 0)"
   ]
  },
  {
   "cell_type": "code",
   "execution_count": 15,
   "metadata": {},
   "outputs": [
    {
     "name": "stdout",
     "output_type": "stream",
     "text": [
      "IG for x==> 0.31127812445913283 \n",
      "IG for Y==> 1.0 \n",
      "IG for Z==> 0.0\n"
     ]
    }
   ],
   "source": [
    "IG_X=1-((3/4)*entropyX_1 +(1/4)*entropyX_0)\n",
    "IG_Y=1-((2/4)*entropyY_1+(2/4)*entropyY_0)\n",
    "IG_Z=1-((2/4)*entropyZ_1+(2/4)*entropyZ_0)\n",
    "print(\"IG for x==>\",IG_X,\"\\nIG for Y==>\",IG_Y,\"\\nIG for Z==>\",IG_Z)"
   ]
  },
  {
   "cell_type": "markdown",
   "metadata": {},
   "source": [
    "#### Here Y Features us the highest infoorrmatiion. So, Y is the rot node Then X feature And Z is the Leaf node."
   ]
  },
  {
   "cell_type": "markdown",
   "metadata": {},
   "source": [
    "## 2. Gini Impurity"
   ]
  },
  {
   "cell_type": "markdown",
   "metadata": {},
   "source": [
    "### Gini impurity=1-Σp*p"
   ]
  },
  {
   "cell_type": "code",
   "execution_count": 17,
   "metadata": {},
   "outputs": [
    {
     "data": {
      "text/html": [
       "<div>\n",
       "<style scoped>\n",
       "    .dataframe tbody tr th:only-of-type {\n",
       "        vertical-align: middle;\n",
       "    }\n",
       "\n",
       "    .dataframe tbody tr th {\n",
       "        vertical-align: top;\n",
       "    }\n",
       "\n",
       "    .dataframe thead th {\n",
       "        text-align: right;\n",
       "    }\n",
       "</style>\n",
       "<table border=\"1\" class=\"dataframe\">\n",
       "  <thead>\n",
       "    <tr style=\"text-align: right;\">\n",
       "      <th></th>\n",
       "      <th>X</th>\n",
       "      <th>Y</th>\n",
       "      <th>Z</th>\n",
       "      <th>Label</th>\n",
       "    </tr>\n",
       "  </thead>\n",
       "  <tbody>\n",
       "    <tr>\n",
       "      <th>0</th>\n",
       "      <td>17</td>\n",
       "      <td>20</td>\n",
       "      <td>10</td>\n",
       "      <td>P</td>\n",
       "    </tr>\n",
       "    <tr>\n",
       "      <th>1</th>\n",
       "      <td>2</td>\n",
       "      <td>15</td>\n",
       "      <td>5</td>\n",
       "      <td>N</td>\n",
       "    </tr>\n",
       "    <tr>\n",
       "      <th>2</th>\n",
       "      <td>10</td>\n",
       "      <td>50</td>\n",
       "      <td>20</td>\n",
       "      <td>P</td>\n",
       "    </tr>\n",
       "    <tr>\n",
       "      <th>3</th>\n",
       "      <td>11</td>\n",
       "      <td>10</td>\n",
       "      <td>25</td>\n",
       "      <td>N</td>\n",
       "    </tr>\n",
       "  </tbody>\n",
       "</table>\n",
       "</div>"
      ],
      "text/plain": [
       "    X   Y   Z Label\n",
       "0  17  20  10     P\n",
       "1   2  15   5     N\n",
       "2  10  50  20     P\n",
       "3  11  10  25     N"
      ]
     },
     "execution_count": 17,
     "metadata": {},
     "output_type": "execute_result"
    }
   ],
   "source": [
    "df=pd.DataFrame({'X':[17,2,10,11],'Y':[20,15,50,10],'Z':[10,5,20,25],'Label':['P','N','P','N']})\n",
    "df"
   ]
  },
  {
   "cell_type": "markdown",
   "metadata": {},
   "source": [
    "### X Feature"
   ]
  },
  {
   "cell_type": "code",
   "execution_count": 26,
   "metadata": {},
   "outputs": [
    {
     "name": "stdout",
     "output_type": "stream",
     "text": [
      "Gini Indexing for grater then the avg==> 0.4444444444444444\n",
      "Gini Indexing for less then the avg==> 0.0\n"
     ]
    }
   ],
   "source": [
    "# Let's check how many records in that particular feature >=10[avg of the column]\n",
    "#total x greater then 10==>3[2p+1N]\n",
    "# In X feature there 2 P & 1 N when X is >+10\n",
    "GX_gt10=1-(np.square(2/3)+np.square(1/3))\n",
    "print(\"Gini Indexing for grater then the avg==>\",GX_gt10)\n",
    "\n",
    "# Total X less then 10==>1\n",
    "# In X feature there 0P & 1N when X is <10\n",
    "GX_lt10=1-(np.square(0/1)+np.square(1/1))\n",
    "print(\"Gini Indexing for less then the avg==>\",GX_lt10)"
   ]
  },
  {
   "cell_type": "code",
   "execution_count": 27,
   "metadata": {},
   "outputs": [
    {
     "name": "stdout",
     "output_type": "stream",
     "text": [
      "Gini For X: 0.3333333333333333\n"
     ]
    }
   ],
   "source": [
    "#Total datapoints>=10/total record*Gini +Total datapoints less then 10/total records of the feature.\n",
    "GiniImpurity=3/4*GX_gt10+1/4*GX_lt10\n",
    "print(\"Gini For X:\",GiniImpurity_gt10)\n"
   ]
  },
  {
   "cell_type": "markdown",
   "metadata": {},
   "source": [
    "### Y&Z feature"
   ]
  },
  {
   "cell_type": "code",
   "execution_count": 28,
   "metadata": {},
   "outputs": [
    {
     "name": "stdout",
     "output_type": "stream",
     "text": [
      "Y_avg: 23.75 \n",
      "Z_Avg: 15.0\n"
     ]
    }
   ],
   "source": [
    "Y_avg,Z_avg=df['Y'].mean(),df['Z'].mean()\n",
    "print(\"Y_avg:\",Y_avg,\"\\nZ_Avg:\",Z_avg)"
   ]
  },
  {
   "cell_type": "code",
   "execution_count": 29,
   "metadata": {},
   "outputs": [
    {
     "name": "stdout",
     "output_type": "stream",
     "text": [
      "Gini Impurity for Y:: 0.3333333333333333\n",
      "Gini impurity for Z: 0.5\n"
     ]
    }
   ],
   "source": [
    "Y_GX_gt24=1-(np.square(1/1)+np.square(0/1))\n",
    "Y_GX_lt24=1-(np.square(1/3)+np.square(2/3))\n",
    "gini_Y=(1/4)*Y_GX_gt24+(3/4)*Y_GX_lt24\n",
    "print(\"Gini Impurity for Y::\",gini_Y)\n",
    "\n",
    "Z_GX_gt15=1-(np.square(1/2)+np.square(1/2))\n",
    "Z_GX_lt15=1-(np.square(1/2)+np.square(1/2))\n",
    "gini_Z=(2/4)*Z_GX_gt15+(2/4)*Z_GX_lt15\n",
    "print(\"Gini impurity for Z:\",gini_Z)"
   ]
  },
  {
   "cell_type": "markdown",
   "metadata": {},
   "source": [
    "#### Lower the impurity high chance of root node"
   ]
  },
  {
   "cell_type": "code",
   "execution_count": null,
   "metadata": {},
   "outputs": [],
   "source": []
  }
 ],
 "metadata": {
  "kernelspec": {
   "display_name": "Python 3",
   "language": "python",
   "name": "python3"
  },
  "language_info": {
   "codemirror_mode": {
    "name": "ipython",
    "version": 3
   },
   "file_extension": ".py",
   "mimetype": "text/x-python",
   "name": "python",
   "nbconvert_exporter": "python",
   "pygments_lexer": "ipython3",
   "version": "3.7.3"
  }
 },
 "nbformat": 4,
 "nbformat_minor": 2
}
