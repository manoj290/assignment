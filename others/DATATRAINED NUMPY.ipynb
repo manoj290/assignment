{
 "cells": [
  {
   "cell_type": "code",
   "execution_count": null,
   "metadata": {},
   "outputs": [],
   "source": [
    "!pip install numpy   #installing numpy lib"
   ]
  },
  {
   "cell_type": "markdown",
   "metadata": {},
   "source": [
    "# NUMPY"
   ]
  },
  {
   "cell_type": "markdown",
   "metadata": {},
   "source": [
    "### WHAT IS NUMPY?\n",
    "\n",
    "<b>NUMPY </b> stands for Numerical Python. It is Python library used for working with <b>Scientific Computing,Multi-dimensional arrays and Matrices. </b>"
   ]
  },
  {
   "cell_type": "code",
   "execution_count": 1,
   "metadata": {},
   "outputs": [],
   "source": [
    "import numpy as np"
   ]
  },
  {
   "cell_type": "markdown",
   "metadata": {},
   "source": [
    "##### VERSION"
   ]
  },
  {
   "cell_type": "code",
   "execution_count": 2,
   "metadata": {},
   "outputs": [
    {
     "data": {
      "text/plain": [
       "'1.16.2'"
      ]
     },
     "execution_count": 2,
     "metadata": {},
     "output_type": "execute_result"
    }
   ],
   "source": [
    "np.__version__"
   ]
  },
  {
   "cell_type": "markdown",
   "metadata": {},
   "source": [
    "#### Array_Creation"
   ]
  },
  {
   "cell_type": "code",
   "execution_count": 3,
   "metadata": {},
   "outputs": [],
   "source": [
    "a=np.array([5,7,9])"
   ]
  },
  {
   "cell_type": "code",
   "execution_count": 4,
   "metadata": {},
   "outputs": [
    {
     "data": {
      "text/plain": [
       "dtype('int32')"
      ]
     },
     "execution_count": 4,
     "metadata": {},
     "output_type": "execute_result"
    }
   ],
   "source": [
    "a.dtype"
   ]
  },
  {
   "cell_type": "code",
   "execution_count": 5,
   "metadata": {},
   "outputs": [
    {
     "data": {
      "text/plain": [
       "list"
      ]
     },
     "execution_count": 5,
     "metadata": {},
     "output_type": "execute_result"
    }
   ],
   "source": [
    "type([5,7,9])"
   ]
  },
  {
   "cell_type": "code",
   "execution_count": 6,
   "metadata": {},
   "outputs": [],
   "source": [
    "#2 dimensions"
   ]
  },
  {
   "cell_type": "code",
   "execution_count": 7,
   "metadata": {},
   "outputs": [],
   "source": [
    "a=np.array([[1,2],[3,4],[5,8]])"
   ]
  },
  {
   "cell_type": "code",
   "execution_count": 8,
   "metadata": {},
   "outputs": [
    {
     "data": {
      "text/plain": [
       "array([[1, 2],\n",
       "       [3, 4],\n",
       "       [5, 8]])"
      ]
     },
     "execution_count": 8,
     "metadata": {},
     "output_type": "execute_result"
    }
   ],
   "source": [
    "a"
   ]
  },
  {
   "cell_type": "markdown",
   "metadata": {},
   "source": [
    "#### Converting int to float "
   ]
  },
  {
   "cell_type": "code",
   "execution_count": 9,
   "metadata": {},
   "outputs": [
    {
     "data": {
      "text/plain": [
       "array([1., 2., 3.])"
      ]
     },
     "execution_count": 9,
     "metadata": {},
     "output_type": "execute_result"
    }
   ],
   "source": [
    "#dtype\n",
    "a=np.array([1,2,3],dtype=float)\n",
    "a"
   ]
  },
  {
   "cell_type": "code",
   "execution_count": 10,
   "metadata": {},
   "outputs": [
    {
     "data": {
      "text/plain": [
       "array([1., 2., 3., 4.])"
      ]
     },
     "execution_count": 10,
     "metadata": {},
     "output_type": "execute_result"
    }
   ],
   "source": [
    "a=[1,2,3,4]\n",
    "np.asfarray(a)"
   ]
  },
  {
   "cell_type": "markdown",
   "metadata": {},
   "source": [
    "#### Converting into array using .mat[Matrix]"
   ]
  },
  {
   "cell_type": "code",
   "execution_count": 11,
   "metadata": {},
   "outputs": [
    {
     "data": {
      "text/plain": [
       "array([[1, 2, 3],\n",
       "       [3, 4, 5]])"
      ]
     },
     "execution_count": 11,
     "metadata": {},
     "output_type": "execute_result"
    }
   ],
   "source": [
    "np.array(np.mat('1,2,3;3,4,5'))                #check"
   ]
  },
  {
   "cell_type": "code",
   "execution_count": 12,
   "metadata": {},
   "outputs": [],
   "source": [
    "#Creating a list into np_array"
   ]
  },
  {
   "cell_type": "code",
   "execution_count": 13,
   "metadata": {},
   "outputs": [
    {
     "data": {
      "text/plain": [
       "array([1, 2, 3])"
      ]
     },
     "execution_count": 13,
     "metadata": {},
     "output_type": "execute_result"
    }
   ],
   "source": [
    "a=[1,2,3]\n",
    "np.array(a)"
   ]
  },
  {
   "cell_type": "code",
   "execution_count": 14,
   "metadata": {
    "scrolled": true
   },
   "outputs": [
    {
     "data": {
      "text/plain": [
       "array([1, 2, 3])"
      ]
     },
     "execution_count": 14,
     "metadata": {},
     "output_type": "execute_result"
    }
   ],
   "source": [
    "np.asarray(a)"
   ]
  },
  {
   "cell_type": "markdown",
   "metadata": {},
   "source": [
    "### data type"
   ]
  },
  {
   "cell_type": "code",
   "execution_count": 15,
   "metadata": {},
   "outputs": [
    {
     "name": "stdout",
     "output_type": "stream",
     "text": [
      "Class/Type of this object:    <class 'numpy.ndarray'>\n",
      "Here the vectors are:\n",
      "-------------\n",
      " [1 2 3]\n"
     ]
    }
   ],
   "source": [
    "a=[1,2,3]\n",
    "print(\"Class/Type of this object:   \",type(np.array(a)))\n",
    "print(\"Here the vectors are:\\n-------------\\n\",np.array(a))"
   ]
  },
  {
   "cell_type": "code",
   "execution_count": 16,
   "metadata": {},
   "outputs": [
    {
     "name": "stdout",
     "output_type": "stream",
     "text": [
      "Class/Type of the object:    <class 'numpy.ndarray'>\n",
      "Heres the vector are:\n",
      "--------\n",
      " [[1 2 3]\n",
      " [3 4 5]\n",
      " [5 6 7]]\n",
      "Dimension:   2\n",
      "Size of each element in mat:   4 byte\n",
      "Length of mat:   9\n",
      "Shape of mat:   (3, 3)\n",
      "Data Type of mat:   int32\n"
     ]
    }
   ],
   "source": [
    "a=[[1,2,3],[3,4,5],[5,6,7]]\n",
    "mat=np.array(a)\n",
    "print(\"Class/Type of the object:   \",type(mat))\n",
    "print(\"Heres the vector are:\\n--------\\n\",mat)\n",
    "print(\"Dimension:  \",mat.ndim)\n",
    "print(\"Size of each element in mat:  \",mat.itemsize,\"byte\")\n",
    "print(\"Length of mat:  \",mat.size)\n",
    "print(\"Shape of mat:  \",mat.shape)\n",
    "print(\"Data Type of mat:  \",mat.dtype)"
   ]
  },
  {
   "cell_type": "markdown",
   "metadata": {},
   "source": [
    "### arange and linspace"
   ]
  },
  {
   "cell_type": "markdown",
   "metadata": {},
   "source": [
    "###### range v/s np.arange"
   ]
  },
  {
   "cell_type": "code",
   "execution_count": 17,
   "metadata": {},
   "outputs": [
    {
     "ename": "TypeError",
     "evalue": "'float' object cannot be interpreted as an integer",
     "output_type": "error",
     "traceback": [
      "\u001b[1;31m---------------------------------------------------------------------------\u001b[0m",
      "\u001b[1;31mTypeError\u001b[0m                                 Traceback (most recent call last)",
      "\u001b[1;32m<ipython-input-17-44053c63325e>\u001b[0m in \u001b[0;36m<module>\u001b[1;34m\u001b[0m\n\u001b[1;32m----> 1\u001b[1;33m \u001b[0mlist\u001b[0m\u001b[1;33m(\u001b[0m\u001b[0mrange\u001b[0m\u001b[1;33m(\u001b[0m\u001b[1;36m2\u001b[0m\u001b[1;33m,\u001b[0m\u001b[1;36m10.4\u001b[0m\u001b[1;33m,\u001b[0m\u001b[1;36m0.4\u001b[0m\u001b[1;33m)\u001b[0m\u001b[1;33m)\u001b[0m  \u001b[1;31m#Throw error becoz range only works with integer\u001b[0m\u001b[1;33m\u001b[0m\u001b[1;33m\u001b[0m\u001b[0m\n\u001b[0m",
      "\u001b[1;31mTypeError\u001b[0m: 'float' object cannot be interpreted as an integer"
     ]
    }
   ],
   "source": [
    "list(range(2,10.4,0.4))  #Throw error becoz range only works with integer"
   ]
  },
  {
   "cell_type": "code",
   "execution_count": 18,
   "metadata": {},
   "outputs": [
    {
     "data": {
      "text/plain": [
       "dtype('float64')"
      ]
     },
     "execution_count": 18,
     "metadata": {},
     "output_type": "execute_result"
    }
   ],
   "source": [
    "a=np.arange(2,10.4,0.4)     #while it works with integer as well as float\n",
    "a.dtype"
   ]
  },
  {
   "cell_type": "code",
   "execution_count": 19,
   "metadata": {},
   "outputs": [
    {
     "data": {
      "text/plain": [
       "array([ 2. ,  2.4,  2.8,  3.2,  3.6,  4. ,  4.4,  4.8,  5.2,  5.6,  6. ,\n",
       "        6.4,  6.8,  7.2,  7.6,  8. ,  8.4,  8.8,  9.2,  9.6, 10. ])"
      ]
     },
     "execution_count": 19,
     "metadata": {},
     "output_type": "execute_result"
    }
   ],
   "source": [
    "a"
   ]
  },
  {
   "cell_type": "code",
   "execution_count": 20,
   "metadata": {},
   "outputs": [
    {
     "data": {
      "text/plain": [
       "array([10. ,  9.6,  9.2,  8.8,  8.4,  8. ,  7.6,  7.2,  6.8,  6.4,  6. ,\n",
       "        5.6,  5.2,  4.8,  4.4,  4. ,  3.6,  3.2,  2.8,  2.4,  2. ])"
      ]
     },
     "execution_count": 20,
     "metadata": {},
     "output_type": "execute_result"
    }
   ],
   "source": [
    "a[::-1]"
   ]
  },
  {
   "cell_type": "code",
   "execution_count": 21,
   "metadata": {},
   "outputs": [
    {
     "data": {
      "text/plain": [
       "array([50, 45, 40, 35, 30, 25, 20, 15, 10,  5,  0])"
      ]
     },
     "execution_count": 21,
     "metadata": {},
     "output_type": "execute_result"
    }
   ],
   "source": [
    "np.arange(50,-1,-5)"
   ]
  },
  {
   "cell_type": "markdown",
   "metadata": {},
   "source": [
    "##### linspace"
   ]
  },
  {
   "cell_type": "code",
   "execution_count": 22,
   "metadata": {},
   "outputs": [
    {
     "name": "stdout",
     "output_type": "stream",
     "text": [
      "Linearly spaced range:\n",
      "----------\n",
      "\n"
     ]
    },
    {
     "data": {
      "text/plain": [
       "array([10. , 17.5, 25. , 32.5, 40. ])"
      ]
     },
     "execution_count": 22,
     "metadata": {},
     "output_type": "execute_result"
    }
   ],
   "source": [
    "print(\"Linearly spaced range:\\n----------\\n\")\n",
    "np.linspace(10,40,5)"
   ]
  },
  {
   "cell_type": "code",
   "execution_count": 24,
   "metadata": {},
   "outputs": [
    {
     "data": {
      "text/plain": [
       "array([2.  , 2.25, 2.5 , 2.75])"
      ]
     },
     "execution_count": 24,
     "metadata": {},
     "output_type": "execute_result"
    }
   ],
   "source": [
    "np.linspace(2.0,3.0,num=4,endpoint=False)    #EndPoint setted to True it means it includes the last value"
   ]
  },
  {
   "cell_type": "code",
   "execution_count": 25,
   "metadata": {},
   "outputs": [
    {
     "data": {
      "text/plain": [
       "(array([ 2.234     ,  3.12533333,  4.01666667,  4.908     ,  5.79933333,\n",
       "         6.69066667,  7.582     ,  8.47333333,  9.36466667, 10.256     ]),\n",
       " 0.8913333333333333)"
      ]
     },
     "execution_count": 25,
     "metadata": {},
     "output_type": "execute_result"
    }
   ],
   "source": [
    "np.linspace(2.234,10.256,num=10,endpoint=True,retstep=True) #Here retstep gives the step_size"
   ]
  },
  {
   "cell_type": "markdown",
   "metadata": {},
   "source": [
    "#### Matrix Creation"
   ]
  },
  {
   "cell_type": "code",
   "execution_count": 26,
   "metadata": {},
   "outputs": [
    {
     "name": "stdout",
     "output_type": "stream",
     "text": [
      "Vectors are:\n",
      "--------\n",
      " [0. 0. 0. 0. 0.]\n"
     ]
    }
   ],
   "source": [
    "print(\"Vectors are:\\n--------\\n\",np.array(np.zeros(5)))"
   ]
  },
  {
   "cell_type": "code",
   "execution_count": 27,
   "metadata": {},
   "outputs": [
    {
     "name": "stdout",
     "output_type": "stream",
     "text": [
      "Matrix of zeroes:\n",
      "--------------\n",
      " [[0. 0. 0.]\n",
      " [0. 0. 0.]\n",
      " [0. 0. 0.]\n",
      " [0. 0. 0.]\n",
      " [0. 0. 0.]]\n"
     ]
    }
   ],
   "source": [
    "print(\"Matrix of zeroes:\\n--------------\\n\",np.array(np.zeros((5,3))))"
   ]
  },
  {
   "cell_type": "code",
   "execution_count": 28,
   "metadata": {},
   "outputs": [
    {
     "name": "stdout",
     "output_type": "stream",
     "text": [
      "Vectors are:\n",
      "------------\n",
      " [1. 1. 1. 1.]\n"
     ]
    }
   ],
   "source": [
    "print(\"Vectors are:\\n------------\\n\",np.ones(4))"
   ]
  },
  {
   "cell_type": "code",
   "execution_count": 29,
   "metadata": {},
   "outputs": [
    {
     "name": "stdout",
     "output_type": "stream",
     "text": [
      "Matrix of ones:\n",
      "-------------------------\n",
      " [[1. 1. 1.]\n",
      " [1. 1. 1.]\n",
      " [1. 1. 1.]\n",
      " [1. 1. 1.]\n",
      " [1. 1. 1.]]\n"
     ]
    }
   ],
   "source": [
    "print(\"Matrix of ones:\\n-------------------------\\n\",np.ones((5,3)))"
   ]
  },
  {
   "cell_type": "code",
   "execution_count": 30,
   "metadata": {},
   "outputs": [
    {
     "name": "stdout",
     "output_type": "stream",
     "text": [
      "Matrix of n no.\n",
      "-----------------\n",
      " [[467. 467. 467.]\n",
      " [467. 467. 467.]\n",
      " [467. 467. 467.]\n",
      " [467. 467. 467.]\n",
      " [467. 467. 467.]]\n"
     ]
    }
   ],
   "source": [
    "n=467\n",
    "print(\"Matrix of n no.\\n-----------------\\n\",n*np.ones((5,3)))"
   ]
  },
  {
   "cell_type": "markdown",
   "metadata": {},
   "source": [
    "### Identity Matrix"
   ]
  },
  {
   "cell_type": "code",
   "execution_count": 31,
   "metadata": {},
   "outputs": [
    {
     "name": "stdout",
     "output_type": "stream",
     "text": [
      "Ceated an Identity Matrix of order:  (5, 5) \n",
      "-------------\n",
      "The Identity Matrix is:\n",
      "-------------\n",
      " [[1. 0. 0. 0. 0.]\n",
      " [0. 1. 0. 0. 0.]\n",
      " [0. 0. 1. 0. 0.]\n",
      " [0. 0. 0. 1. 0.]\n",
      " [0. 0. 0. 0. 1.]]\n"
     ]
    }
   ],
   "source": [
    "a=np.eye(5)\n",
    "print(\"Ceated an Identity Matrix of order: \",a.shape,\"\\n-------------\\nThe Identity Matrix is:\\n-------------\\n\",a)"
   ]
  },
  {
   "cell_type": "code",
   "execution_count": 32,
   "metadata": {},
   "outputs": [
    {
     "data": {
      "text/plain": [
       "array([[5., 0., 0., 0., 0.],\n",
       "       [0., 5., 0., 0., 0.],\n",
       "       [0., 0., 5., 0., 0.],\n",
       "       [0., 0., 0., 5., 0.],\n",
       "       [0., 0., 0., 0., 5.]])"
      ]
     },
     "execution_count": 32,
     "metadata": {},
     "output_type": "execute_result"
    }
   ],
   "source": [
    "a=5*a\n",
    "a"
   ]
  },
  {
   "cell_type": "markdown",
   "metadata": {},
   "source": [
    "##### Reshape"
   ]
  },
  {
   "cell_type": "code",
   "execution_count": 33,
   "metadata": {},
   "outputs": [
    {
     "data": {
      "text/plain": [
       "array([[5.],\n",
       "       [0.],\n",
       "       [0.],\n",
       "       [0.],\n",
       "       [0.],\n",
       "       [0.],\n",
       "       [5.],\n",
       "       [0.],\n",
       "       [0.],\n",
       "       [0.],\n",
       "       [0.],\n",
       "       [0.],\n",
       "       [5.],\n",
       "       [0.],\n",
       "       [0.],\n",
       "       [0.],\n",
       "       [0.],\n",
       "       [0.],\n",
       "       [5.],\n",
       "       [0.],\n",
       "       [0.],\n",
       "       [0.],\n",
       "       [0.],\n",
       "       [0.],\n",
       "       [5.]])"
      ]
     },
     "execution_count": 33,
     "metadata": {},
     "output_type": "execute_result"
    }
   ],
   "source": [
    "a.reshape(25,1)"
   ]
  },
  {
   "cell_type": "code",
   "execution_count": 34,
   "metadata": {},
   "outputs": [
    {
     "name": "stdout",
     "output_type": "stream",
     "text": [
      "Random number generation(from uniform distribution)\n",
      " ------------------------------ \n",
      "Maintains Consistancy\n",
      " ------------------------------\n"
     ]
    },
    {
     "data": {
      "text/plain": [
       "array([[0.06926464, 0.37405818],\n",
       "       [0.17142612, 0.4312807 ],\n",
       "       [0.11820426, 0.52842736],\n",
       "       [0.06189586, 0.21900192],\n",
       "       [0.96234731, 0.27882655]])"
      ]
     },
     "execution_count": 34,
     "metadata": {},
     "output_type": "execute_result"
    }
   ],
   "source": [
    "import numpy as np\n",
    "import numpy.random as nr\n",
    "print(\"Random number generation(from uniform distribution)\\n\",'-'*30,'\\nMaintains Consistancy\\n','-'*30)\n",
    "nr.rand(5,2)"
   ]
  },
  {
   "cell_type": "code",
   "execution_count": 35,
   "metadata": {},
   "outputs": [
    {
     "name": "stdout",
     "output_type": "stream",
     "text": [
      "Random No. Generation with mean approx zero and standard deviation 1 (from Normal Distribution)\n",
      " ------------------------------ \n",
      "\n"
     ]
    },
    {
     "data": {
      "text/plain": [
       "array([[-0.60050413, -1.55033936, -1.86187457,  0.63232331, -1.16874167],\n",
       "       [-0.61645203, -1.05716631, -0.42081766, -1.15444429, -0.27441301],\n",
       "       [-1.49377744,  0.34905339,  1.26606354, -0.90230468, -0.39329217],\n",
       "       [ 0.03534188, -0.43370029, -0.33453586,  1.24823905,  0.21498026],\n",
       "       [ 0.21788608, -0.91113191,  0.29245465, -0.7206416 ,  1.28630865]])"
      ]
     },
     "execution_count": 35,
     "metadata": {},
     "output_type": "execute_result"
    }
   ],
   "source": [
    "print(\"Random No. Generation with mean approx zero and standard deviation 1 (from Normal Distribution)\\n\",'-'*30,'\\n')\n",
    "nr.randn(5,5)"
   ]
  },
  {
   "cell_type": "code",
   "execution_count": 36,
   "metadata": {},
   "outputs": [
    {
     "name": "stdout",
     "output_type": "stream",
     "text": [
      "Random integer vector\n",
      " ------------------------------ \n",
      "\n"
     ]
    },
    {
     "data": {
      "text/plain": [
       "array([4, 5, 3, 4, 3, 3, 2, 3, 6, 1, 3, 1, 5, 6, 1, 4, 5, 3, 1, 4, 4, 5,\n",
       "       4, 6, 4, 3, 5, 2, 4, 4])"
      ]
     },
     "execution_count": 36,
     "metadata": {},
     "output_type": "execute_result"
    }
   ],
   "source": [
    "print(\"Random integer vector\\n\",'-'*30,'\\n')\n",
    "nr.randint(1,7,30)  #randint(starting point[included],ending point[excluded],no. of variable)"
   ]
  },
  {
   "cell_type": "markdown",
   "metadata": {},
   "source": [
    "## Reshaping"
   ]
  },
  {
   "cell_type": "code",
   "execution_count": 37,
   "metadata": {},
   "outputs": [],
   "source": [
    "a=nr.randint(1,8,20).reshape(5,4)"
   ]
  },
  {
   "cell_type": "code",
   "execution_count": 38,
   "metadata": {},
   "outputs": [
    {
     "data": {
      "text/plain": [
       "array([[4, 5, 5, 6],\n",
       "       [6, 5, 1, 3],\n",
       "       [7, 5, 7, 4],\n",
       "       [1, 7, 3, 7],\n",
       "       [3, 6, 3, 1]])"
      ]
     },
     "execution_count": 38,
     "metadata": {},
     "output_type": "execute_result"
    }
   ],
   "source": [
    "a"
   ]
  },
  {
   "cell_type": "code",
   "execution_count": 39,
   "metadata": {},
   "outputs": [
    {
     "data": {
      "text/plain": [
       "array([[[4, 5, 5, 6, 6],\n",
       "        [5, 1, 3, 7, 5]],\n",
       "\n",
       "       [[7, 4, 1, 7, 3],\n",
       "        [7, 3, 6, 3, 1]]])"
      ]
     },
     "execution_count": 39,
     "metadata": {},
     "output_type": "execute_result"
    }
   ],
   "source": [
    "a.reshape(2,2,5)"
   ]
  },
  {
   "cell_type": "markdown",
   "metadata": {},
   "source": [
    "## Sorting"
   ]
  },
  {
   "cell_type": "code",
   "execution_count": 40,
   "metadata": {},
   "outputs": [
    {
     "name": "stdout",
     "output_type": "stream",
     "text": [
      "Vectors of a are:\n",
      " ------------------------------ \n",
      " [79 10 40  8 37 11 95 28 94 72 73 25 28 71 43 25 67 83 28 47 50 54  3 71\n",
      " 89]\n",
      "\n",
      "Sorted Vectors of a:\n",
      " ------------------------------ \n",
      " [ 3  8 10 11 25 25 28 28 28 37 40 43 47 50 54 67 71 71 72 73 79 83 89 94\n",
      " 95]\n",
      "\n",
      "\n",
      "Sorted vector throgh Row:\n",
      " ------------------------------ \n",
      " [[ 8 10 37 40 79]\n",
      " [11 28 72 94 95]\n",
      " [25 28 43 71 73]\n",
      " [25 28 47 67 83]\n",
      " [ 3 50 54 71 89]]\n",
      "\n",
      "\n",
      "Sorted vector throgh column:\n",
      " ------------------------------ \n",
      " [[11 10  3  8 37]\n",
      " [25 25 28 28 43]\n",
      " [50 54 28 71 47]\n",
      " [73 67 40 71 72]\n",
      " [79 95 83 94 89]]\n"
     ]
    }
   ],
   "source": [
    "a=nr.randint(1,100,25)\n",
    "print(\"Vectors of a are:\\n\",'-'*30,'\\n',a)\n",
    "print(\"\\nSorted Vectors of a:\\n\",'-'*30,'\\n',np.sort(a,kind='mergesort'))\n",
    "b=a.reshape(5,5)\n",
    "print(\"\\n\\nSorted vector throgh Row:\\n\",'-'*30,'\\n',np.sort(b,kind='quicksort'))\n",
    "print(\"\\n\\nSorted vector throgh column:\\n\",'-'*30,'\\n',np.sort(b,axis=0,kind='quicksort'))"
   ]
  },
  {
   "cell_type": "code",
   "execution_count": 41,
   "metadata": {},
   "outputs": [
    {
     "name": "stdout",
     "output_type": "stream",
     "text": [
      "Max of matrix: 95 \n",
      "Min of matrix: 3\n"
     ]
    }
   ],
   "source": [
    "print(\"Max of matrix:\",np.max(b),\"\\nMin of matrix:\",np.min(b))"
   ]
  },
  {
   "cell_type": "markdown",
   "metadata": {},
   "source": [
    "# Indexing & Slicing"
   ]
  },
  {
   "cell_type": "code",
   "execution_count": 42,
   "metadata": {},
   "outputs": [
    {
     "name": "stdout",
     "output_type": "stream",
     "text": [
      "Element at 7th index: 7\n"
     ]
    }
   ],
   "source": [
    "arr=np.arange(0,11)\n",
    "print(\"Element at 7th index:\",arr[7])"
   ]
  },
  {
   "cell_type": "code",
   "execution_count": 43,
   "metadata": {},
   "outputs": [
    {
     "name": "stdout",
     "output_type": "stream",
     "text": [
      "Element upto 6th index [0 1 2 3 4 5 6]\n"
     ]
    }
   ],
   "source": [
    "print(\"Element upto 6th index\",arr[:7])"
   ]
  },
  {
   "cell_type": "code",
   "execution_count": 44,
   "metadata": {},
   "outputs": [
    {
     "data": {
      "text/plain": [
       "array([ 4,  5,  6,  7,  8,  9, 10])"
      ]
     },
     "execution_count": 44,
     "metadata": {},
     "output_type": "execute_result"
    }
   ],
   "source": [
    "arr[4:]"
   ]
  },
  {
   "cell_type": "code",
   "execution_count": 45,
   "metadata": {},
   "outputs": [
    {
     "data": {
      "text/plain": [
       "array([2, 3, 4, 5, 6, 7])"
      ]
     },
     "execution_count": 45,
     "metadata": {},
     "output_type": "execute_result"
    }
   ],
   "source": [
    "arr[2:8]"
   ]
  },
  {
   "cell_type": "code",
   "execution_count": 46,
   "metadata": {},
   "outputs": [
    {
     "data": {
      "text/plain": [
       "array([10,  8,  6,  4,  2,  0])"
      ]
     },
     "execution_count": 46,
     "metadata": {},
     "output_type": "execute_result"
    }
   ],
   "source": [
    "arr[-1::-2]"
   ]
  },
  {
   "cell_type": "code",
   "execution_count": 47,
   "metadata": {},
   "outputs": [
    {
     "data": {
      "text/plain": [
       "array([10,  8,  6,  4])"
      ]
     },
     "execution_count": 47,
     "metadata": {},
     "output_type": "execute_result"
    }
   ],
   "source": [
    "arr[-1:-9:-2]"
   ]
  },
  {
   "cell_type": "code",
   "execution_count": 52,
   "metadata": {},
   "outputs": [
    {
     "data": {
      "text/plain": [
       "array([[79, 10, 40,  8, 37],\n",
       "       [11, 95, 28, 94, 72],\n",
       "       [73, 25, 28, 71, 43],\n",
       "       [25, 67, 83, 28, 47],\n",
       "       [50, 54,  3, 71, 89]])"
      ]
     },
     "execution_count": 52,
     "metadata": {},
     "output_type": "execute_result"
    }
   ],
   "source": [
    "b"
   ]
  },
  {
   "cell_type": "code",
   "execution_count": 53,
   "metadata": {},
   "outputs": [
    {
     "name": "stdout",
     "output_type": "stream",
     "text": [
      "matrix slicing:\n",
      " [[79 10 40  8 37]\n",
      " [11 95 28 94 72]\n",
      " [73 25 28 71 43]\n",
      " [25 67 83 28 47]\n",
      " [50 54  3 71 89]]\n"
     ]
    }
   ],
   "source": [
    "print(\"matrix slicing:\\n\",b[:])"
   ]
  },
  {
   "cell_type": "code",
   "execution_count": 54,
   "metadata": {},
   "outputs": [
    {
     "data": {
      "text/plain": [
       "94"
      ]
     },
     "execution_count": 54,
     "metadata": {},
     "output_type": "execute_result"
    }
   ],
   "source": [
    "b[1][3]"
   ]
  },
  {
   "cell_type": "code",
   "execution_count": 55,
   "metadata": {},
   "outputs": [
    {
     "data": {
      "text/plain": [
       "array([[10, 40],\n",
       "       [95, 28],\n",
       "       [25, 28],\n",
       "       [67, 83],\n",
       "       [54,  3]])"
      ]
     },
     "execution_count": 55,
     "metadata": {},
     "output_type": "execute_result"
    }
   ],
   "source": [
    "b[:,1:3]"
   ]
  },
  {
   "cell_type": "code",
   "execution_count": 56,
   "metadata": {},
   "outputs": [
    {
     "data": {
      "text/plain": [
       "array([[95, 28, 94],\n",
       "       [25, 28, 71],\n",
       "       [67, 83, 28]])"
      ]
     },
     "execution_count": 56,
     "metadata": {},
     "output_type": "execute_result"
    }
   ],
   "source": [
    "b[1:4,1:4]"
   ]
  },
  {
   "cell_type": "markdown",
   "metadata": {},
   "source": [
    "### Subsetting"
   ]
  },
  {
   "cell_type": "code",
   "execution_count": 57,
   "metadata": {},
   "outputs": [
    {
     "data": {
      "text/plain": [
       "array([79, 95, 94, 72, 73, 71, 67, 83, 54, 71, 89])"
      ]
     },
     "execution_count": 57,
     "metadata": {},
     "output_type": "execute_result"
    }
   ],
   "source": [
    "b[b>50]"
   ]
  },
  {
   "cell_type": "code",
   "execution_count": 58,
   "metadata": {},
   "outputs": [
    {
     "data": {
      "text/plain": [
       "array([[ True, False, False, False, False],\n",
       "       [False,  True, False,  True,  True],\n",
       "       [ True, False, False,  True, False],\n",
       "       [False,  True,  True, False, False],\n",
       "       [False,  True, False,  True,  True]])"
      ]
     },
     "execution_count": 58,
     "metadata": {},
     "output_type": "execute_result"
    }
   ],
   "source": [
    "b>50"
   ]
  },
  {
   "cell_type": "markdown",
   "metadata": {},
   "source": [
    "## Padding"
   ]
  },
  {
   "cell_type": "code",
   "execution_count": 59,
   "metadata": {},
   "outputs": [
    {
     "data": {
      "text/plain": [
       "array([[ 1,  1,  1,  1,  1,  1,  1],\n",
       "       [ 1, 79, 10, 40,  8, 37,  1],\n",
       "       [ 1, 11, 95, 28, 94, 72,  1],\n",
       "       [ 1, 73, 25, 28, 71, 43,  1],\n",
       "       [ 1, 25, 67, 83, 28, 47,  1],\n",
       "       [ 1, 50, 54,  3, 71, 89,  1],\n",
       "       [ 1,  1,  1,  1,  1,  1,  1]])"
      ]
     },
     "execution_count": 59,
     "metadata": {},
     "output_type": "execute_result"
    }
   ],
   "source": [
    "np.pad(b,pad_width=1,mode='constant',constant_values=1)"
   ]
  },
  {
   "cell_type": "markdown",
   "metadata": {},
   "source": [
    "## Universal Function"
   ]
  },
  {
   "cell_type": "code",
   "execution_count": 60,
   "metadata": {},
   "outputs": [],
   "source": [
    "mat1=np.array(nr.randint(1,10,9).reshape(3,3))\n",
    "mat2=np.array(nr.randint(1,10,9).reshape(3,3))"
   ]
  },
  {
   "cell_type": "code",
   "execution_count": 61,
   "metadata": {},
   "outputs": [
    {
     "name": "stdout",
     "output_type": "stream",
     "text": [
      "Matrix first :\n",
      "  ---------------------------------------- \n",
      " [[9 5 8]\n",
      " [9 5 9]\n",
      " [8 3 1]]\n",
      "Matrix second :\n",
      "  ---------------------------------------- \n",
      " [[9 9 2]\n",
      " [6 4 3]\n",
      " [5 8 1]]\n",
      "Addition:\n",
      " -------------------------------------------------- \n",
      " [[18 14 10]\n",
      " [15  9 12]\n",
      " [13 11  2]]\n",
      "Subtraction:\n",
      " -------------------------------------------------- \n",
      " [[ 0 -4  6]\n",
      " [ 3  1  6]\n",
      " [ 3 -5  0]]\n",
      "Multiplication:\n",
      " -------------------------------------------------- \n",
      " [[81 45 16]\n",
      " [54 20 27]\n",
      " [40 24  1]]\n",
      "Division:\n",
      " -------------------------------------------------- \n",
      " [[1.         0.55555556 4.        ]\n",
      " [1.5        1.25       3.        ]\n",
      " [1.6        0.375      1.        ]]\n"
     ]
    }
   ],
   "source": [
    "print(\"Matrix first :\\n \",'-'*40,\"\\n\",mat1)\n",
    "print(\"Matrix second :\\n \",'-'*40,\"\\n\",mat2)\n",
    "print(\"Addition:\\n\",'-'*50,'\\n',mat1+mat2)\n",
    "print(\"Subtraction:\\n\",'-'*50,'\\n',mat1-mat2)\n",
    "print(\"Multiplication:\\n\",'-'*50,'\\n',mat1*mat2)\n",
    "print(\"Division:\\n\",'-'*50,'\\n',mat1/mat2)"
   ]
  },
  {
   "cell_type": "code",
   "execution_count": 62,
   "metadata": {},
   "outputs": [
    {
     "name": "stdout",
     "output_type": "stream",
     "text": [
      "Linear combination like 3*mat1 + 2*mat2 :\n",
      "  ---------------------------------------- \n",
      " [[45 33 28]\n",
      " [39 23 33]\n",
      " [34 25  5]]\n",
      "Adding scalar value like 100 :\n",
      "  ---------------------------------------- \n",
      " [[109 105 108]\n",
      " [109 105 109]\n",
      " [108 103 101]]\n"
     ]
    }
   ],
   "source": [
    "print(\"Linear combination like 3*mat1 + 2*mat2 :\\n \",'-'*40,\"\\n\",3*mat1+2*mat2)\n",
    "print(\"Adding scalar value like 100 :\\n \",'-'*40,\"\\n\",mat1+100)"
   ]
  },
  {
   "cell_type": "code",
   "execution_count": 63,
   "metadata": {},
   "outputs": [
    {
     "name": "stdout",
     "output_type": "stream",
     "text": [
      "Cube of Matrix :\n",
      "  ---------------------------------------- \n",
      " [[729 125 512]\n",
      " [729 125 729]\n",
      " [512  27   1]]\n",
      "Square root of Matrix :\n",
      "  ---------------------------------------- \n",
      " [[3.         2.23606798 2.82842712]\n",
      " [3.         2.23606798 3.        ]\n",
      " [2.82842712 1.73205081 1.        ]]\n"
     ]
    }
   ],
   "source": [
    "print(\"Cube of Matrix :\\n \",'-'*40,\"\\n\",mat1**3)\n",
    "print(\"Square root of Matrix :\\n \",'-'*40,\"\\n\",pow(mat1,0.5))"
   ]
  },
  {
   "cell_type": "code",
   "execution_count": 64,
   "metadata": {},
   "outputs": [
    {
     "data": {
      "text/plain": [
       "array([[18, 10, 16],\n",
       "       [18, 10, 18],\n",
       "       [16,  6,  2]])"
      ]
     },
     "execution_count": 64,
     "metadata": {},
     "output_type": "execute_result"
    }
   ],
   "source": [
    "mat1*2"
   ]
  },
  {
   "cell_type": "markdown",
   "metadata": {},
   "source": [
    "## Broadcasting"
   ]
  },
  {
   "cell_type": "markdown",
   "metadata": {},
   "source": [
    "#### TransPose"
   ]
  },
  {
   "cell_type": "code",
   "execution_count": 65,
   "metadata": {},
   "outputs": [
    {
     "name": "stdout",
     "output_type": "stream",
     "text": [
      "[[0 1 2 3]]\n"
     ]
    }
   ],
   "source": [
    "a=np.array([[0,1,2,3]])\n",
    "print(a)"
   ]
  },
  {
   "cell_type": "code",
   "execution_count": 66,
   "metadata": {},
   "outputs": [],
   "source": [
    "a=a.T"
   ]
  },
  {
   "cell_type": "code",
   "execution_count": 67,
   "metadata": {},
   "outputs": [
    {
     "data": {
      "text/plain": [
       "array([[0],\n",
       "       [1],\n",
       "       [2],\n",
       "       [3]])"
      ]
     },
     "execution_count": 67,
     "metadata": {},
     "output_type": "execute_result"
    }
   ],
   "source": [
    "a"
   ]
  },
  {
   "cell_type": "markdown",
   "metadata": {},
   "source": [
    "## Array Math"
   ]
  },
  {
   "cell_type": "code",
   "execution_count": 68,
   "metadata": {},
   "outputs": [
    {
     "name": "stdout",
     "output_type": "stream",
     "text": [
      "[[1 8 7]\n",
      " [4 3 4]\n",
      " [4 9 6]] \n",
      "\n",
      "\n",
      " [[9 6 7]\n",
      " [7 5 5]\n",
      " [3 1 8]]\n"
     ]
    }
   ],
   "source": [
    "a=np.array(nr.randint(1,10,9)).reshape(3,3)\n",
    "b=np.array(nr.randint(1,10,9)).reshape(3,3)\n",
    "print(a,'\\n\\n\\n',b)"
   ]
  },
  {
   "cell_type": "code",
   "execution_count": 69,
   "metadata": {},
   "outputs": [
    {
     "data": {
      "text/plain": [
       "array([[1.        , 2.82842712, 2.64575131],\n",
       "       [2.        , 1.73205081, 2.        ],\n",
       "       [2.        , 3.        , 2.44948974]])"
      ]
     },
     "execution_count": 69,
     "metadata": {},
     "output_type": "execute_result"
    }
   ],
   "source": [
    "np.sqrt(a)"
   ]
  },
  {
   "cell_type": "code",
   "execution_count": 70,
   "metadata": {},
   "outputs": [
    {
     "data": {
      "text/plain": [
       "array([[2.71828183e+00, 2.98095799e+03, 1.09663316e+03],\n",
       "       [5.45981500e+01, 2.00855369e+01, 5.45981500e+01],\n",
       "       [5.45981500e+01, 8.10308393e+03, 4.03428793e+02]])"
      ]
     },
     "execution_count": 70,
     "metadata": {},
     "output_type": "execute_result"
    }
   ],
   "source": [
    "np.exp(a)"
   ]
  },
  {
   "cell_type": "code",
   "execution_count": 71,
   "metadata": {},
   "outputs": [
    {
     "data": {
      "text/plain": [
       "array([[0.        , 2.07944154, 1.94591015],\n",
       "       [1.38629436, 1.09861229, 1.38629436],\n",
       "       [1.38629436, 2.19722458, 1.79175947]])"
      ]
     },
     "execution_count": 71,
     "metadata": {},
     "output_type": "execute_result"
    }
   ],
   "source": [
    "np.log(a)"
   ]
  },
  {
   "cell_type": "code",
   "execution_count": 72,
   "metadata": {},
   "outputs": [
    {
     "data": {
      "text/plain": [
       "array([[0.95424251, 0.77815125, 0.84509804],\n",
       "       [0.84509804, 0.69897   , 0.69897   ],\n",
       "       [0.47712125, 0.        , 0.90308999]])"
      ]
     },
     "execution_count": 72,
     "metadata": {},
     "output_type": "execute_result"
    }
   ],
   "source": [
    "np.log10(b)"
   ]
  },
  {
   "cell_type": "code",
   "execution_count": 73,
   "metadata": {},
   "outputs": [
    {
     "data": {
      "text/plain": [
       "array([[0.        , 0.90308999, 0.84509804],\n",
       "       [0.60205999, 0.47712125, 0.60205999],\n",
       "       [0.60205999, 0.95424251, 0.77815125]])"
      ]
     },
     "execution_count": 73,
     "metadata": {},
     "output_type": "execute_result"
    }
   ],
   "source": [
    "np.log10(a)"
   ]
  },
  {
   "cell_type": "code",
   "execution_count": null,
   "metadata": {},
   "outputs": [],
   "source": []
  },
  {
   "cell_type": "code",
   "execution_count": null,
   "metadata": {},
   "outputs": [],
   "source": []
  },
  {
   "cell_type": "code",
   "execution_count": null,
   "metadata": {},
   "outputs": [],
   "source": []
  }
 ],
 "metadata": {
  "kernelspec": {
   "display_name": "Python 3",
   "language": "python",
   "name": "python3"
  },
  "language_info": {
   "codemirror_mode": {
    "name": "ipython",
    "version": 3
   },
   "file_extension": ".py",
   "mimetype": "text/x-python",
   "name": "python",
   "nbconvert_exporter": "python",
   "pygments_lexer": "ipython3",
   "version": "3.7.3"
  }
 },
 "nbformat": 4,
 "nbformat_minor": 2
}
